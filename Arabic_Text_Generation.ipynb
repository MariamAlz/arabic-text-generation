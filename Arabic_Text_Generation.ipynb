{
  "nbformat": 4,
  "nbformat_minor": 0,
  "metadata": {
    "colab": {
      "name": "Arabic Text Generation.ipynb",
      "provenance": []
    },
    "kernelspec": {
      "name": "python3",
      "display_name": "Python 3"
    },
    "language_info": {
      "name": "python"
    },
    "widgets": {
      "application/vnd.jupyter.widget-state+json": {
        "d139f7aa55c74244babbf24339faa75b": {
          "model_module": "@jupyter-widgets/controls",
          "model_name": "HBoxModel",
          "model_module_version": "1.5.0",
          "state": {
            "_dom_classes": [],
            "_model_module": "@jupyter-widgets/controls",
            "_model_module_version": "1.5.0",
            "_model_name": "HBoxModel",
            "_view_count": null,
            "_view_module": "@jupyter-widgets/controls",
            "_view_module_version": "1.5.0",
            "_view_name": "HBoxView",
            "box_style": "",
            "children": [
              "IPY_MODEL_37762a0b536a4340ba6309d33f4a2ff0",
              "IPY_MODEL_5d3f97f062e84c9eb4d05db8cc01f7c0",
              "IPY_MODEL_51aae09562884d4386877e973b45ac56"
            ],
            "layout": "IPY_MODEL_0a9632615ee84520b77373e00fca0312"
          }
        },
        "37762a0b536a4340ba6309d33f4a2ff0": {
          "model_module": "@jupyter-widgets/controls",
          "model_name": "HTMLModel",
          "model_module_version": "1.5.0",
          "state": {
            "_dom_classes": [],
            "_model_module": "@jupyter-widgets/controls",
            "_model_module_version": "1.5.0",
            "_model_name": "HTMLModel",
            "_view_count": null,
            "_view_module": "@jupyter-widgets/controls",
            "_view_module_version": "1.5.0",
            "_view_name": "HTMLView",
            "description": "",
            "description_tooltip": null,
            "layout": "IPY_MODEL_e672348bddff42a5ae99509f33b20f3d",
            "placeholder": "​",
            "style": "IPY_MODEL_7fd36a9438f8424c8ebdd3026c9a705f",
            "value": "Downloading: 100%"
          }
        },
        "5d3f97f062e84c9eb4d05db8cc01f7c0": {
          "model_module": "@jupyter-widgets/controls",
          "model_name": "FloatProgressModel",
          "model_module_version": "1.5.0",
          "state": {
            "_dom_classes": [],
            "_model_module": "@jupyter-widgets/controls",
            "_model_module_version": "1.5.0",
            "_model_name": "FloatProgressModel",
            "_view_count": null,
            "_view_module": "@jupyter-widgets/controls",
            "_view_module_version": "1.5.0",
            "_view_name": "ProgressView",
            "bar_style": "success",
            "description": "",
            "description_tooltip": null,
            "layout": "IPY_MODEL_99f483c0bfee475cac6f307c1dfd1242",
            "max": 843,
            "min": 0,
            "orientation": "horizontal",
            "style": "IPY_MODEL_37e7cdb136524008936eeeb559442aff",
            "value": 843
          }
        },
        "51aae09562884d4386877e973b45ac56": {
          "model_module": "@jupyter-widgets/controls",
          "model_name": "HTMLModel",
          "model_module_version": "1.5.0",
          "state": {
            "_dom_classes": [],
            "_model_module": "@jupyter-widgets/controls",
            "_model_module_version": "1.5.0",
            "_model_name": "HTMLModel",
            "_view_count": null,
            "_view_module": "@jupyter-widgets/controls",
            "_view_module_version": "1.5.0",
            "_view_name": "HTMLView",
            "description": "",
            "description_tooltip": null,
            "layout": "IPY_MODEL_35807b7bc3e144f0958214db35feb13e",
            "placeholder": "​",
            "style": "IPY_MODEL_7925910058564a15ac46f33f5f10d1b4",
            "value": " 843/843 [00:00&lt;00:00, 16.8kB/s]"
          }
        },
        "0a9632615ee84520b77373e00fca0312": {
          "model_module": "@jupyter-widgets/base",
          "model_name": "LayoutModel",
          "model_module_version": "1.2.0",
          "state": {
            "_model_module": "@jupyter-widgets/base",
            "_model_module_version": "1.2.0",
            "_model_name": "LayoutModel",
            "_view_count": null,
            "_view_module": "@jupyter-widgets/base",
            "_view_module_version": "1.2.0",
            "_view_name": "LayoutView",
            "align_content": null,
            "align_items": null,
            "align_self": null,
            "border": null,
            "bottom": null,
            "display": null,
            "flex": null,
            "flex_flow": null,
            "grid_area": null,
            "grid_auto_columns": null,
            "grid_auto_flow": null,
            "grid_auto_rows": null,
            "grid_column": null,
            "grid_gap": null,
            "grid_row": null,
            "grid_template_areas": null,
            "grid_template_columns": null,
            "grid_template_rows": null,
            "height": null,
            "justify_content": null,
            "justify_items": null,
            "left": null,
            "margin": null,
            "max_height": null,
            "max_width": null,
            "min_height": null,
            "min_width": null,
            "object_fit": null,
            "object_position": null,
            "order": null,
            "overflow": null,
            "overflow_x": null,
            "overflow_y": null,
            "padding": null,
            "right": null,
            "top": null,
            "visibility": null,
            "width": null
          }
        },
        "e672348bddff42a5ae99509f33b20f3d": {
          "model_module": "@jupyter-widgets/base",
          "model_name": "LayoutModel",
          "model_module_version": "1.2.0",
          "state": {
            "_model_module": "@jupyter-widgets/base",
            "_model_module_version": "1.2.0",
            "_model_name": "LayoutModel",
            "_view_count": null,
            "_view_module": "@jupyter-widgets/base",
            "_view_module_version": "1.2.0",
            "_view_name": "LayoutView",
            "align_content": null,
            "align_items": null,
            "align_self": null,
            "border": null,
            "bottom": null,
            "display": null,
            "flex": null,
            "flex_flow": null,
            "grid_area": null,
            "grid_auto_columns": null,
            "grid_auto_flow": null,
            "grid_auto_rows": null,
            "grid_column": null,
            "grid_gap": null,
            "grid_row": null,
            "grid_template_areas": null,
            "grid_template_columns": null,
            "grid_template_rows": null,
            "height": null,
            "justify_content": null,
            "justify_items": null,
            "left": null,
            "margin": null,
            "max_height": null,
            "max_width": null,
            "min_height": null,
            "min_width": null,
            "object_fit": null,
            "object_position": null,
            "order": null,
            "overflow": null,
            "overflow_x": null,
            "overflow_y": null,
            "padding": null,
            "right": null,
            "top": null,
            "visibility": null,
            "width": null
          }
        },
        "7fd36a9438f8424c8ebdd3026c9a705f": {
          "model_module": "@jupyter-widgets/controls",
          "model_name": "DescriptionStyleModel",
          "model_module_version": "1.5.0",
          "state": {
            "_model_module": "@jupyter-widgets/controls",
            "_model_module_version": "1.5.0",
            "_model_name": "DescriptionStyleModel",
            "_view_count": null,
            "_view_module": "@jupyter-widgets/base",
            "_view_module_version": "1.2.0",
            "_view_name": "StyleView",
            "description_width": ""
          }
        },
        "99f483c0bfee475cac6f307c1dfd1242": {
          "model_module": "@jupyter-widgets/base",
          "model_name": "LayoutModel",
          "model_module_version": "1.2.0",
          "state": {
            "_model_module": "@jupyter-widgets/base",
            "_model_module_version": "1.2.0",
            "_model_name": "LayoutModel",
            "_view_count": null,
            "_view_module": "@jupyter-widgets/base",
            "_view_module_version": "1.2.0",
            "_view_name": "LayoutView",
            "align_content": null,
            "align_items": null,
            "align_self": null,
            "border": null,
            "bottom": null,
            "display": null,
            "flex": null,
            "flex_flow": null,
            "grid_area": null,
            "grid_auto_columns": null,
            "grid_auto_flow": null,
            "grid_auto_rows": null,
            "grid_column": null,
            "grid_gap": null,
            "grid_row": null,
            "grid_template_areas": null,
            "grid_template_columns": null,
            "grid_template_rows": null,
            "height": null,
            "justify_content": null,
            "justify_items": null,
            "left": null,
            "margin": null,
            "max_height": null,
            "max_width": null,
            "min_height": null,
            "min_width": null,
            "object_fit": null,
            "object_position": null,
            "order": null,
            "overflow": null,
            "overflow_x": null,
            "overflow_y": null,
            "padding": null,
            "right": null,
            "top": null,
            "visibility": null,
            "width": null
          }
        },
        "37e7cdb136524008936eeeb559442aff": {
          "model_module": "@jupyter-widgets/controls",
          "model_name": "ProgressStyleModel",
          "model_module_version": "1.5.0",
          "state": {
            "_model_module": "@jupyter-widgets/controls",
            "_model_module_version": "1.5.0",
            "_model_name": "ProgressStyleModel",
            "_view_count": null,
            "_view_module": "@jupyter-widgets/base",
            "_view_module_version": "1.2.0",
            "_view_name": "StyleView",
            "bar_color": null,
            "description_width": ""
          }
        },
        "35807b7bc3e144f0958214db35feb13e": {
          "model_module": "@jupyter-widgets/base",
          "model_name": "LayoutModel",
          "model_module_version": "1.2.0",
          "state": {
            "_model_module": "@jupyter-widgets/base",
            "_model_module_version": "1.2.0",
            "_model_name": "LayoutModel",
            "_view_count": null,
            "_view_module": "@jupyter-widgets/base",
            "_view_module_version": "1.2.0",
            "_view_name": "LayoutView",
            "align_content": null,
            "align_items": null,
            "align_self": null,
            "border": null,
            "bottom": null,
            "display": null,
            "flex": null,
            "flex_flow": null,
            "grid_area": null,
            "grid_auto_columns": null,
            "grid_auto_flow": null,
            "grid_auto_rows": null,
            "grid_column": null,
            "grid_gap": null,
            "grid_row": null,
            "grid_template_areas": null,
            "grid_template_columns": null,
            "grid_template_rows": null,
            "height": null,
            "justify_content": null,
            "justify_items": null,
            "left": null,
            "margin": null,
            "max_height": null,
            "max_width": null,
            "min_height": null,
            "min_width": null,
            "object_fit": null,
            "object_position": null,
            "order": null,
            "overflow": null,
            "overflow_x": null,
            "overflow_y": null,
            "padding": null,
            "right": null,
            "top": null,
            "visibility": null,
            "width": null
          }
        },
        "7925910058564a15ac46f33f5f10d1b4": {
          "model_module": "@jupyter-widgets/controls",
          "model_name": "DescriptionStyleModel",
          "model_module_version": "1.5.0",
          "state": {
            "_model_module": "@jupyter-widgets/controls",
            "_model_module_version": "1.5.0",
            "_model_name": "DescriptionStyleModel",
            "_view_count": null,
            "_view_module": "@jupyter-widgets/base",
            "_view_module_version": "1.2.0",
            "_view_name": "StyleView",
            "description_width": ""
          }
        },
        "bae648805a454d46b62d4767996fad28": {
          "model_module": "@jupyter-widgets/controls",
          "model_name": "HBoxModel",
          "model_module_version": "1.5.0",
          "state": {
            "_dom_classes": [],
            "_model_module": "@jupyter-widgets/controls",
            "_model_module_version": "1.5.0",
            "_model_name": "HBoxModel",
            "_view_count": null,
            "_view_module": "@jupyter-widgets/controls",
            "_view_module_version": "1.5.0",
            "_view_name": "HBoxView",
            "box_style": "",
            "children": [
              "IPY_MODEL_9e66e3b0c0ea4138808ba19235d4944c",
              "IPY_MODEL_c08b5368d9b54daca9c7464eefc5829d",
              "IPY_MODEL_465bf38c0575482480e75f9fac1fb99e"
            ],
            "layout": "IPY_MODEL_8016194323734a5b9e9bad4c7e5c4545"
          }
        },
        "9e66e3b0c0ea4138808ba19235d4944c": {
          "model_module": "@jupyter-widgets/controls",
          "model_name": "HTMLModel",
          "model_module_version": "1.5.0",
          "state": {
            "_dom_classes": [],
            "_model_module": "@jupyter-widgets/controls",
            "_model_module_version": "1.5.0",
            "_model_name": "HTMLModel",
            "_view_count": null,
            "_view_module": "@jupyter-widgets/controls",
            "_view_module_version": "1.5.0",
            "_view_name": "HTMLView",
            "description": "",
            "description_tooltip": null,
            "layout": "IPY_MODEL_7b3a538da2194cb18fb0755638fa32be",
            "placeholder": "​",
            "style": "IPY_MODEL_52add727b4d74d39829f7a996c7bb3e8",
            "value": "Downloading: 100%"
          }
        },
        "c08b5368d9b54daca9c7464eefc5829d": {
          "model_module": "@jupyter-widgets/controls",
          "model_name": "FloatProgressModel",
          "model_module_version": "1.5.0",
          "state": {
            "_dom_classes": [],
            "_model_module": "@jupyter-widgets/controls",
            "_model_module_version": "1.5.0",
            "_model_name": "FloatProgressModel",
            "_view_count": null,
            "_view_module": "@jupyter-widgets/controls",
            "_view_module_version": "1.5.0",
            "_view_name": "ProgressView",
            "bar_style": "success",
            "description": "",
            "description_tooltip": null,
            "layout": "IPY_MODEL_7804c58d24e74bf98a8590f3143d6187",
            "max": 552618653,
            "min": 0,
            "orientation": "horizontal",
            "style": "IPY_MODEL_08137abeb6f64aa0a8f23bae6659a06d",
            "value": 552618653
          }
        },
        "465bf38c0575482480e75f9fac1fb99e": {
          "model_module": "@jupyter-widgets/controls",
          "model_name": "HTMLModel",
          "model_module_version": "1.5.0",
          "state": {
            "_dom_classes": [],
            "_model_module": "@jupyter-widgets/controls",
            "_model_module_version": "1.5.0",
            "_model_name": "HTMLModel",
            "_view_count": null,
            "_view_module": "@jupyter-widgets/controls",
            "_view_module_version": "1.5.0",
            "_view_name": "HTMLView",
            "description": "",
            "description_tooltip": null,
            "layout": "IPY_MODEL_6fc07721865f417db21d46ea4dc3c315",
            "placeholder": "​",
            "style": "IPY_MODEL_23949ee656bd41f0a166b8ea5e542836",
            "value": " 553M/553M [00:26&lt;00:00, 10.8MB/s]"
          }
        },
        "8016194323734a5b9e9bad4c7e5c4545": {
          "model_module": "@jupyter-widgets/base",
          "model_name": "LayoutModel",
          "model_module_version": "1.2.0",
          "state": {
            "_model_module": "@jupyter-widgets/base",
            "_model_module_version": "1.2.0",
            "_model_name": "LayoutModel",
            "_view_count": null,
            "_view_module": "@jupyter-widgets/base",
            "_view_module_version": "1.2.0",
            "_view_name": "LayoutView",
            "align_content": null,
            "align_items": null,
            "align_self": null,
            "border": null,
            "bottom": null,
            "display": null,
            "flex": null,
            "flex_flow": null,
            "grid_area": null,
            "grid_auto_columns": null,
            "grid_auto_flow": null,
            "grid_auto_rows": null,
            "grid_column": null,
            "grid_gap": null,
            "grid_row": null,
            "grid_template_areas": null,
            "grid_template_columns": null,
            "grid_template_rows": null,
            "height": null,
            "justify_content": null,
            "justify_items": null,
            "left": null,
            "margin": null,
            "max_height": null,
            "max_width": null,
            "min_height": null,
            "min_width": null,
            "object_fit": null,
            "object_position": null,
            "order": null,
            "overflow": null,
            "overflow_x": null,
            "overflow_y": null,
            "padding": null,
            "right": null,
            "top": null,
            "visibility": null,
            "width": null
          }
        },
        "7b3a538da2194cb18fb0755638fa32be": {
          "model_module": "@jupyter-widgets/base",
          "model_name": "LayoutModel",
          "model_module_version": "1.2.0",
          "state": {
            "_model_module": "@jupyter-widgets/base",
            "_model_module_version": "1.2.0",
            "_model_name": "LayoutModel",
            "_view_count": null,
            "_view_module": "@jupyter-widgets/base",
            "_view_module_version": "1.2.0",
            "_view_name": "LayoutView",
            "align_content": null,
            "align_items": null,
            "align_self": null,
            "border": null,
            "bottom": null,
            "display": null,
            "flex": null,
            "flex_flow": null,
            "grid_area": null,
            "grid_auto_columns": null,
            "grid_auto_flow": null,
            "grid_auto_rows": null,
            "grid_column": null,
            "grid_gap": null,
            "grid_row": null,
            "grid_template_areas": null,
            "grid_template_columns": null,
            "grid_template_rows": null,
            "height": null,
            "justify_content": null,
            "justify_items": null,
            "left": null,
            "margin": null,
            "max_height": null,
            "max_width": null,
            "min_height": null,
            "min_width": null,
            "object_fit": null,
            "object_position": null,
            "order": null,
            "overflow": null,
            "overflow_x": null,
            "overflow_y": null,
            "padding": null,
            "right": null,
            "top": null,
            "visibility": null,
            "width": null
          }
        },
        "52add727b4d74d39829f7a996c7bb3e8": {
          "model_module": "@jupyter-widgets/controls",
          "model_name": "DescriptionStyleModel",
          "model_module_version": "1.5.0",
          "state": {
            "_model_module": "@jupyter-widgets/controls",
            "_model_module_version": "1.5.0",
            "_model_name": "DescriptionStyleModel",
            "_view_count": null,
            "_view_module": "@jupyter-widgets/base",
            "_view_module_version": "1.2.0",
            "_view_name": "StyleView",
            "description_width": ""
          }
        },
        "7804c58d24e74bf98a8590f3143d6187": {
          "model_module": "@jupyter-widgets/base",
          "model_name": "LayoutModel",
          "model_module_version": "1.2.0",
          "state": {
            "_model_module": "@jupyter-widgets/base",
            "_model_module_version": "1.2.0",
            "_model_name": "LayoutModel",
            "_view_count": null,
            "_view_module": "@jupyter-widgets/base",
            "_view_module_version": "1.2.0",
            "_view_name": "LayoutView",
            "align_content": null,
            "align_items": null,
            "align_self": null,
            "border": null,
            "bottom": null,
            "display": null,
            "flex": null,
            "flex_flow": null,
            "grid_area": null,
            "grid_auto_columns": null,
            "grid_auto_flow": null,
            "grid_auto_rows": null,
            "grid_column": null,
            "grid_gap": null,
            "grid_row": null,
            "grid_template_areas": null,
            "grid_template_columns": null,
            "grid_template_rows": null,
            "height": null,
            "justify_content": null,
            "justify_items": null,
            "left": null,
            "margin": null,
            "max_height": null,
            "max_width": null,
            "min_height": null,
            "min_width": null,
            "object_fit": null,
            "object_position": null,
            "order": null,
            "overflow": null,
            "overflow_x": null,
            "overflow_y": null,
            "padding": null,
            "right": null,
            "top": null,
            "visibility": null,
            "width": null
          }
        },
        "08137abeb6f64aa0a8f23bae6659a06d": {
          "model_module": "@jupyter-widgets/controls",
          "model_name": "ProgressStyleModel",
          "model_module_version": "1.5.0",
          "state": {
            "_model_module": "@jupyter-widgets/controls",
            "_model_module_version": "1.5.0",
            "_model_name": "ProgressStyleModel",
            "_view_count": null,
            "_view_module": "@jupyter-widgets/base",
            "_view_module_version": "1.2.0",
            "_view_name": "StyleView",
            "bar_color": null,
            "description_width": ""
          }
        },
        "6fc07721865f417db21d46ea4dc3c315": {
          "model_module": "@jupyter-widgets/base",
          "model_name": "LayoutModel",
          "model_module_version": "1.2.0",
          "state": {
            "_model_module": "@jupyter-widgets/base",
            "_model_module_version": "1.2.0",
            "_model_name": "LayoutModel",
            "_view_count": null,
            "_view_module": "@jupyter-widgets/base",
            "_view_module_version": "1.2.0",
            "_view_name": "LayoutView",
            "align_content": null,
            "align_items": null,
            "align_self": null,
            "border": null,
            "bottom": null,
            "display": null,
            "flex": null,
            "flex_flow": null,
            "grid_area": null,
            "grid_auto_columns": null,
            "grid_auto_flow": null,
            "grid_auto_rows": null,
            "grid_column": null,
            "grid_gap": null,
            "grid_row": null,
            "grid_template_areas": null,
            "grid_template_columns": null,
            "grid_template_rows": null,
            "height": null,
            "justify_content": null,
            "justify_items": null,
            "left": null,
            "margin": null,
            "max_height": null,
            "max_width": null,
            "min_height": null,
            "min_width": null,
            "object_fit": null,
            "object_position": null,
            "order": null,
            "overflow": null,
            "overflow_x": null,
            "overflow_y": null,
            "padding": null,
            "right": null,
            "top": null,
            "visibility": null,
            "width": null
          }
        },
        "23949ee656bd41f0a166b8ea5e542836": {
          "model_module": "@jupyter-widgets/controls",
          "model_name": "DescriptionStyleModel",
          "model_module_version": "1.5.0",
          "state": {
            "_model_module": "@jupyter-widgets/controls",
            "_model_module_version": "1.5.0",
            "_model_name": "DescriptionStyleModel",
            "_view_count": null,
            "_view_module": "@jupyter-widgets/base",
            "_view_module_version": "1.2.0",
            "_view_name": "StyleView",
            "description_width": ""
          }
        },
        "53e26459509a448289a61c34f3eff276": {
          "model_module": "@jupyter-widgets/controls",
          "model_name": "HBoxModel",
          "model_module_version": "1.5.0",
          "state": {
            "_dom_classes": [],
            "_model_module": "@jupyter-widgets/controls",
            "_model_module_version": "1.5.0",
            "_model_name": "HBoxModel",
            "_view_count": null,
            "_view_module": "@jupyter-widgets/controls",
            "_view_module_version": "1.5.0",
            "_view_name": "HBoxView",
            "box_style": "",
            "children": [
              "IPY_MODEL_10d83bc72e0b4538919cc68269c36b0f",
              "IPY_MODEL_780a82a4571148a2aab2ad20d2393069",
              "IPY_MODEL_60df5a9469d64b0d9549a24f5b60c208"
            ],
            "layout": "IPY_MODEL_fbd3758d41fe4e48b0a1963eab5bbff5"
          }
        },
        "10d83bc72e0b4538919cc68269c36b0f": {
          "model_module": "@jupyter-widgets/controls",
          "model_name": "HTMLModel",
          "model_module_version": "1.5.0",
          "state": {
            "_dom_classes": [],
            "_model_module": "@jupyter-widgets/controls",
            "_model_module_version": "1.5.0",
            "_model_name": "HTMLModel",
            "_view_count": null,
            "_view_module": "@jupyter-widgets/controls",
            "_view_module_version": "1.5.0",
            "_view_name": "HTMLView",
            "description": "",
            "description_tooltip": null,
            "layout": "IPY_MODEL_de51af520ded4c39b1851a2d7e3409c6",
            "placeholder": "​",
            "style": "IPY_MODEL_75f56b4ed54a4f808cf9b9b3e79282f4",
            "value": "Downloading: 100%"
          }
        },
        "780a82a4571148a2aab2ad20d2393069": {
          "model_module": "@jupyter-widgets/controls",
          "model_name": "FloatProgressModel",
          "model_module_version": "1.5.0",
          "state": {
            "_dom_classes": [],
            "_model_module": "@jupyter-widgets/controls",
            "_model_module_version": "1.5.0",
            "_model_name": "FloatProgressModel",
            "_view_count": null,
            "_view_module": "@jupyter-widgets/controls",
            "_view_module_version": "1.5.0",
            "_view_name": "ProgressView",
            "bar_style": "success",
            "description": "",
            "description_tooltip": null,
            "layout": "IPY_MODEL_af229000124441b4bd31792715a24b44",
            "max": 1935314,
            "min": 0,
            "orientation": "horizontal",
            "style": "IPY_MODEL_67c581210b2e4ec08c4ce624de547f05",
            "value": 1935314
          }
        },
        "60df5a9469d64b0d9549a24f5b60c208": {
          "model_module": "@jupyter-widgets/controls",
          "model_name": "HTMLModel",
          "model_module_version": "1.5.0",
          "state": {
            "_dom_classes": [],
            "_model_module": "@jupyter-widgets/controls",
            "_model_module_version": "1.5.0",
            "_model_name": "HTMLModel",
            "_view_count": null,
            "_view_module": "@jupyter-widgets/controls",
            "_view_module_version": "1.5.0",
            "_view_name": "HTMLView",
            "description": "",
            "description_tooltip": null,
            "layout": "IPY_MODEL_62bb9a98a9264e06a8364593db89dabf",
            "placeholder": "​",
            "style": "IPY_MODEL_7c89ef1bc07e42e5ac16913031eb83c4",
            "value": " 1.94M/1.94M [00:01&lt;00:00, 1.42MB/s]"
          }
        },
        "fbd3758d41fe4e48b0a1963eab5bbff5": {
          "model_module": "@jupyter-widgets/base",
          "model_name": "LayoutModel",
          "model_module_version": "1.2.0",
          "state": {
            "_model_module": "@jupyter-widgets/base",
            "_model_module_version": "1.2.0",
            "_model_name": "LayoutModel",
            "_view_count": null,
            "_view_module": "@jupyter-widgets/base",
            "_view_module_version": "1.2.0",
            "_view_name": "LayoutView",
            "align_content": null,
            "align_items": null,
            "align_self": null,
            "border": null,
            "bottom": null,
            "display": null,
            "flex": null,
            "flex_flow": null,
            "grid_area": null,
            "grid_auto_columns": null,
            "grid_auto_flow": null,
            "grid_auto_rows": null,
            "grid_column": null,
            "grid_gap": null,
            "grid_row": null,
            "grid_template_areas": null,
            "grid_template_columns": null,
            "grid_template_rows": null,
            "height": null,
            "justify_content": null,
            "justify_items": null,
            "left": null,
            "margin": null,
            "max_height": null,
            "max_width": null,
            "min_height": null,
            "min_width": null,
            "object_fit": null,
            "object_position": null,
            "order": null,
            "overflow": null,
            "overflow_x": null,
            "overflow_y": null,
            "padding": null,
            "right": null,
            "top": null,
            "visibility": null,
            "width": null
          }
        },
        "de51af520ded4c39b1851a2d7e3409c6": {
          "model_module": "@jupyter-widgets/base",
          "model_name": "LayoutModel",
          "model_module_version": "1.2.0",
          "state": {
            "_model_module": "@jupyter-widgets/base",
            "_model_module_version": "1.2.0",
            "_model_name": "LayoutModel",
            "_view_count": null,
            "_view_module": "@jupyter-widgets/base",
            "_view_module_version": "1.2.0",
            "_view_name": "LayoutView",
            "align_content": null,
            "align_items": null,
            "align_self": null,
            "border": null,
            "bottom": null,
            "display": null,
            "flex": null,
            "flex_flow": null,
            "grid_area": null,
            "grid_auto_columns": null,
            "grid_auto_flow": null,
            "grid_auto_rows": null,
            "grid_column": null,
            "grid_gap": null,
            "grid_row": null,
            "grid_template_areas": null,
            "grid_template_columns": null,
            "grid_template_rows": null,
            "height": null,
            "justify_content": null,
            "justify_items": null,
            "left": null,
            "margin": null,
            "max_height": null,
            "max_width": null,
            "min_height": null,
            "min_width": null,
            "object_fit": null,
            "object_position": null,
            "order": null,
            "overflow": null,
            "overflow_x": null,
            "overflow_y": null,
            "padding": null,
            "right": null,
            "top": null,
            "visibility": null,
            "width": null
          }
        },
        "75f56b4ed54a4f808cf9b9b3e79282f4": {
          "model_module": "@jupyter-widgets/controls",
          "model_name": "DescriptionStyleModel",
          "model_module_version": "1.5.0",
          "state": {
            "_model_module": "@jupyter-widgets/controls",
            "_model_module_version": "1.5.0",
            "_model_name": "DescriptionStyleModel",
            "_view_count": null,
            "_view_module": "@jupyter-widgets/base",
            "_view_module_version": "1.2.0",
            "_view_name": "StyleView",
            "description_width": ""
          }
        },
        "af229000124441b4bd31792715a24b44": {
          "model_module": "@jupyter-widgets/base",
          "model_name": "LayoutModel",
          "model_module_version": "1.2.0",
          "state": {
            "_model_module": "@jupyter-widgets/base",
            "_model_module_version": "1.2.0",
            "_model_name": "LayoutModel",
            "_view_count": null,
            "_view_module": "@jupyter-widgets/base",
            "_view_module_version": "1.2.0",
            "_view_name": "LayoutView",
            "align_content": null,
            "align_items": null,
            "align_self": null,
            "border": null,
            "bottom": null,
            "display": null,
            "flex": null,
            "flex_flow": null,
            "grid_area": null,
            "grid_auto_columns": null,
            "grid_auto_flow": null,
            "grid_auto_rows": null,
            "grid_column": null,
            "grid_gap": null,
            "grid_row": null,
            "grid_template_areas": null,
            "grid_template_columns": null,
            "grid_template_rows": null,
            "height": null,
            "justify_content": null,
            "justify_items": null,
            "left": null,
            "margin": null,
            "max_height": null,
            "max_width": null,
            "min_height": null,
            "min_width": null,
            "object_fit": null,
            "object_position": null,
            "order": null,
            "overflow": null,
            "overflow_x": null,
            "overflow_y": null,
            "padding": null,
            "right": null,
            "top": null,
            "visibility": null,
            "width": null
          }
        },
        "67c581210b2e4ec08c4ce624de547f05": {
          "model_module": "@jupyter-widgets/controls",
          "model_name": "ProgressStyleModel",
          "model_module_version": "1.5.0",
          "state": {
            "_model_module": "@jupyter-widgets/controls",
            "_model_module_version": "1.5.0",
            "_model_name": "ProgressStyleModel",
            "_view_count": null,
            "_view_module": "@jupyter-widgets/base",
            "_view_module_version": "1.2.0",
            "_view_name": "StyleView",
            "bar_color": null,
            "description_width": ""
          }
        },
        "62bb9a98a9264e06a8364593db89dabf": {
          "model_module": "@jupyter-widgets/base",
          "model_name": "LayoutModel",
          "model_module_version": "1.2.0",
          "state": {
            "_model_module": "@jupyter-widgets/base",
            "_model_module_version": "1.2.0",
            "_model_name": "LayoutModel",
            "_view_count": null,
            "_view_module": "@jupyter-widgets/base",
            "_view_module_version": "1.2.0",
            "_view_name": "LayoutView",
            "align_content": null,
            "align_items": null,
            "align_self": null,
            "border": null,
            "bottom": null,
            "display": null,
            "flex": null,
            "flex_flow": null,
            "grid_area": null,
            "grid_auto_columns": null,
            "grid_auto_flow": null,
            "grid_auto_rows": null,
            "grid_column": null,
            "grid_gap": null,
            "grid_row": null,
            "grid_template_areas": null,
            "grid_template_columns": null,
            "grid_template_rows": null,
            "height": null,
            "justify_content": null,
            "justify_items": null,
            "left": null,
            "margin": null,
            "max_height": null,
            "max_width": null,
            "min_height": null,
            "min_width": null,
            "object_fit": null,
            "object_position": null,
            "order": null,
            "overflow": null,
            "overflow_x": null,
            "overflow_y": null,
            "padding": null,
            "right": null,
            "top": null,
            "visibility": null,
            "width": null
          }
        },
        "7c89ef1bc07e42e5ac16913031eb83c4": {
          "model_module": "@jupyter-widgets/controls",
          "model_name": "DescriptionStyleModel",
          "model_module_version": "1.5.0",
          "state": {
            "_model_module": "@jupyter-widgets/controls",
            "_model_module_version": "1.5.0",
            "_model_name": "DescriptionStyleModel",
            "_view_count": null,
            "_view_module": "@jupyter-widgets/base",
            "_view_module_version": "1.2.0",
            "_view_name": "StyleView",
            "description_width": ""
          }
        },
        "4b316fb1e9e44aba8b164ec269fb7fcd": {
          "model_module": "@jupyter-widgets/controls",
          "model_name": "HBoxModel",
          "model_module_version": "1.5.0",
          "state": {
            "_dom_classes": [],
            "_model_module": "@jupyter-widgets/controls",
            "_model_module_version": "1.5.0",
            "_model_name": "HBoxModel",
            "_view_count": null,
            "_view_module": "@jupyter-widgets/controls",
            "_view_module_version": "1.5.0",
            "_view_name": "HBoxView",
            "box_style": "",
            "children": [
              "IPY_MODEL_bc683b8e64144846895e2b87523f1007",
              "IPY_MODEL_32aa6ba517ef4d87b3d0412b1b147cb1",
              "IPY_MODEL_957498db83ad48efb371157eae635acc"
            ],
            "layout": "IPY_MODEL_203caf13a40743769b3737522de2ff2b"
          }
        },
        "bc683b8e64144846895e2b87523f1007": {
          "model_module": "@jupyter-widgets/controls",
          "model_name": "HTMLModel",
          "model_module_version": "1.5.0",
          "state": {
            "_dom_classes": [],
            "_model_module": "@jupyter-widgets/controls",
            "_model_module_version": "1.5.0",
            "_model_name": "HTMLModel",
            "_view_count": null,
            "_view_module": "@jupyter-widgets/controls",
            "_view_module_version": "1.5.0",
            "_view_name": "HTMLView",
            "description": "",
            "description_tooltip": null,
            "layout": "IPY_MODEL_af5d37a4711c4aac8dcc4da17bdab117",
            "placeholder": "​",
            "style": "IPY_MODEL_7c29b6410c1f488fbb9c3472539ad1c0",
            "value": "Downloading: 100%"
          }
        },
        "32aa6ba517ef4d87b3d0412b1b147cb1": {
          "model_module": "@jupyter-widgets/controls",
          "model_name": "FloatProgressModel",
          "model_module_version": "1.5.0",
          "state": {
            "_dom_classes": [],
            "_model_module": "@jupyter-widgets/controls",
            "_model_module_version": "1.5.0",
            "_model_name": "FloatProgressModel",
            "_view_count": null,
            "_view_module": "@jupyter-widgets/controls",
            "_view_module_version": "1.5.0",
            "_view_name": "ProgressView",
            "bar_style": "success",
            "description": "",
            "description_tooltip": null,
            "layout": "IPY_MODEL_071a76dace2845a7973fc965fb0ad306",
            "max": 1497508,
            "min": 0,
            "orientation": "horizontal",
            "style": "IPY_MODEL_6bcd2711d3de4c44843eb49bdff0dd94",
            "value": 1497508
          }
        },
        "957498db83ad48efb371157eae635acc": {
          "model_module": "@jupyter-widgets/controls",
          "model_name": "HTMLModel",
          "model_module_version": "1.5.0",
          "state": {
            "_dom_classes": [],
            "_model_module": "@jupyter-widgets/controls",
            "_model_module_version": "1.5.0",
            "_model_name": "HTMLModel",
            "_view_count": null,
            "_view_module": "@jupyter-widgets/controls",
            "_view_module_version": "1.5.0",
            "_view_name": "HTMLView",
            "description": "",
            "description_tooltip": null,
            "layout": "IPY_MODEL_eb23415c48f5411887a7b701b6d7a3b1",
            "placeholder": "​",
            "style": "IPY_MODEL_89eeda68752c47b38878b423a7d2d214",
            "value": " 1.50M/1.50M [00:01&lt;00:00, 1.13MB/s]"
          }
        },
        "203caf13a40743769b3737522de2ff2b": {
          "model_module": "@jupyter-widgets/base",
          "model_name": "LayoutModel",
          "model_module_version": "1.2.0",
          "state": {
            "_model_module": "@jupyter-widgets/base",
            "_model_module_version": "1.2.0",
            "_model_name": "LayoutModel",
            "_view_count": null,
            "_view_module": "@jupyter-widgets/base",
            "_view_module_version": "1.2.0",
            "_view_name": "LayoutView",
            "align_content": null,
            "align_items": null,
            "align_self": null,
            "border": null,
            "bottom": null,
            "display": null,
            "flex": null,
            "flex_flow": null,
            "grid_area": null,
            "grid_auto_columns": null,
            "grid_auto_flow": null,
            "grid_auto_rows": null,
            "grid_column": null,
            "grid_gap": null,
            "grid_row": null,
            "grid_template_areas": null,
            "grid_template_columns": null,
            "grid_template_rows": null,
            "height": null,
            "justify_content": null,
            "justify_items": null,
            "left": null,
            "margin": null,
            "max_height": null,
            "max_width": null,
            "min_height": null,
            "min_width": null,
            "object_fit": null,
            "object_position": null,
            "order": null,
            "overflow": null,
            "overflow_x": null,
            "overflow_y": null,
            "padding": null,
            "right": null,
            "top": null,
            "visibility": null,
            "width": null
          }
        },
        "af5d37a4711c4aac8dcc4da17bdab117": {
          "model_module": "@jupyter-widgets/base",
          "model_name": "LayoutModel",
          "model_module_version": "1.2.0",
          "state": {
            "_model_module": "@jupyter-widgets/base",
            "_model_module_version": "1.2.0",
            "_model_name": "LayoutModel",
            "_view_count": null,
            "_view_module": "@jupyter-widgets/base",
            "_view_module_version": "1.2.0",
            "_view_name": "LayoutView",
            "align_content": null,
            "align_items": null,
            "align_self": null,
            "border": null,
            "bottom": null,
            "display": null,
            "flex": null,
            "flex_flow": null,
            "grid_area": null,
            "grid_auto_columns": null,
            "grid_auto_flow": null,
            "grid_auto_rows": null,
            "grid_column": null,
            "grid_gap": null,
            "grid_row": null,
            "grid_template_areas": null,
            "grid_template_columns": null,
            "grid_template_rows": null,
            "height": null,
            "justify_content": null,
            "justify_items": null,
            "left": null,
            "margin": null,
            "max_height": null,
            "max_width": null,
            "min_height": null,
            "min_width": null,
            "object_fit": null,
            "object_position": null,
            "order": null,
            "overflow": null,
            "overflow_x": null,
            "overflow_y": null,
            "padding": null,
            "right": null,
            "top": null,
            "visibility": null,
            "width": null
          }
        },
        "7c29b6410c1f488fbb9c3472539ad1c0": {
          "model_module": "@jupyter-widgets/controls",
          "model_name": "DescriptionStyleModel",
          "model_module_version": "1.5.0",
          "state": {
            "_model_module": "@jupyter-widgets/controls",
            "_model_module_version": "1.5.0",
            "_model_name": "DescriptionStyleModel",
            "_view_count": null,
            "_view_module": "@jupyter-widgets/base",
            "_view_module_version": "1.2.0",
            "_view_name": "StyleView",
            "description_width": ""
          }
        },
        "071a76dace2845a7973fc965fb0ad306": {
          "model_module": "@jupyter-widgets/base",
          "model_name": "LayoutModel",
          "model_module_version": "1.2.0",
          "state": {
            "_model_module": "@jupyter-widgets/base",
            "_model_module_version": "1.2.0",
            "_model_name": "LayoutModel",
            "_view_count": null,
            "_view_module": "@jupyter-widgets/base",
            "_view_module_version": "1.2.0",
            "_view_name": "LayoutView",
            "align_content": null,
            "align_items": null,
            "align_self": null,
            "border": null,
            "bottom": null,
            "display": null,
            "flex": null,
            "flex_flow": null,
            "grid_area": null,
            "grid_auto_columns": null,
            "grid_auto_flow": null,
            "grid_auto_rows": null,
            "grid_column": null,
            "grid_gap": null,
            "grid_row": null,
            "grid_template_areas": null,
            "grid_template_columns": null,
            "grid_template_rows": null,
            "height": null,
            "justify_content": null,
            "justify_items": null,
            "left": null,
            "margin": null,
            "max_height": null,
            "max_width": null,
            "min_height": null,
            "min_width": null,
            "object_fit": null,
            "object_position": null,
            "order": null,
            "overflow": null,
            "overflow_x": null,
            "overflow_y": null,
            "padding": null,
            "right": null,
            "top": null,
            "visibility": null,
            "width": null
          }
        },
        "6bcd2711d3de4c44843eb49bdff0dd94": {
          "model_module": "@jupyter-widgets/controls",
          "model_name": "ProgressStyleModel",
          "model_module_version": "1.5.0",
          "state": {
            "_model_module": "@jupyter-widgets/controls",
            "_model_module_version": "1.5.0",
            "_model_name": "ProgressStyleModel",
            "_view_count": null,
            "_view_module": "@jupyter-widgets/base",
            "_view_module_version": "1.2.0",
            "_view_name": "StyleView",
            "bar_color": null,
            "description_width": ""
          }
        },
        "eb23415c48f5411887a7b701b6d7a3b1": {
          "model_module": "@jupyter-widgets/base",
          "model_name": "LayoutModel",
          "model_module_version": "1.2.0",
          "state": {
            "_model_module": "@jupyter-widgets/base",
            "_model_module_version": "1.2.0",
            "_model_name": "LayoutModel",
            "_view_count": null,
            "_view_module": "@jupyter-widgets/base",
            "_view_module_version": "1.2.0",
            "_view_name": "LayoutView",
            "align_content": null,
            "align_items": null,
            "align_self": null,
            "border": null,
            "bottom": null,
            "display": null,
            "flex": null,
            "flex_flow": null,
            "grid_area": null,
            "grid_auto_columns": null,
            "grid_auto_flow": null,
            "grid_auto_rows": null,
            "grid_column": null,
            "grid_gap": null,
            "grid_row": null,
            "grid_template_areas": null,
            "grid_template_columns": null,
            "grid_template_rows": null,
            "height": null,
            "justify_content": null,
            "justify_items": null,
            "left": null,
            "margin": null,
            "max_height": null,
            "max_width": null,
            "min_height": null,
            "min_width": null,
            "object_fit": null,
            "object_position": null,
            "order": null,
            "overflow": null,
            "overflow_x": null,
            "overflow_y": null,
            "padding": null,
            "right": null,
            "top": null,
            "visibility": null,
            "width": null
          }
        },
        "89eeda68752c47b38878b423a7d2d214": {
          "model_module": "@jupyter-widgets/controls",
          "model_name": "DescriptionStyleModel",
          "model_module_version": "1.5.0",
          "state": {
            "_model_module": "@jupyter-widgets/controls",
            "_model_module_version": "1.5.0",
            "_model_name": "DescriptionStyleModel",
            "_view_count": null,
            "_view_module": "@jupyter-widgets/base",
            "_view_module_version": "1.2.0",
            "_view_name": "StyleView",
            "description_width": ""
          }
        },
        "5de0d8ff8d964746886e451e1788d68d": {
          "model_module": "@jupyter-widgets/controls",
          "model_name": "HBoxModel",
          "model_module_version": "1.5.0",
          "state": {
            "_dom_classes": [],
            "_model_module": "@jupyter-widgets/controls",
            "_model_module_version": "1.5.0",
            "_model_name": "HBoxModel",
            "_view_count": null,
            "_view_module": "@jupyter-widgets/controls",
            "_view_module_version": "1.5.0",
            "_view_name": "HBoxView",
            "box_style": "",
            "children": [
              "IPY_MODEL_632f0f601eff40eda44bdcd06d259762",
              "IPY_MODEL_41166741ed0a476c83901fc55e4091e1",
              "IPY_MODEL_aae2d288090f4b3ca5c8c5e9c69df827"
            ],
            "layout": "IPY_MODEL_4af384dccfb94fcd9f0515e9be92342c"
          }
        },
        "632f0f601eff40eda44bdcd06d259762": {
          "model_module": "@jupyter-widgets/controls",
          "model_name": "HTMLModel",
          "model_module_version": "1.5.0",
          "state": {
            "_dom_classes": [],
            "_model_module": "@jupyter-widgets/controls",
            "_model_module_version": "1.5.0",
            "_model_name": "HTMLModel",
            "_view_count": null,
            "_view_module": "@jupyter-widgets/controls",
            "_view_module_version": "1.5.0",
            "_view_name": "HTMLView",
            "description": "",
            "description_tooltip": null,
            "layout": "IPY_MODEL_aeb6e42fc835469691aa4ce27cce597b",
            "placeholder": "​",
            "style": "IPY_MODEL_b4e40ebd78444fa9a17055442dab9b40",
            "value": "Downloading: 100%"
          }
        },
        "41166741ed0a476c83901fc55e4091e1": {
          "model_module": "@jupyter-widgets/controls",
          "model_name": "FloatProgressModel",
          "model_module_version": "1.5.0",
          "state": {
            "_dom_classes": [],
            "_model_module": "@jupyter-widgets/controls",
            "_model_module_version": "1.5.0",
            "_model_name": "FloatProgressModel",
            "_view_count": null,
            "_view_module": "@jupyter-widgets/controls",
            "_view_module_version": "1.5.0",
            "_view_name": "ProgressView",
            "bar_style": "success",
            "description": "",
            "description_tooltip": null,
            "layout": "IPY_MODEL_e52770c8198e4dc489fdbf07f36e9f10",
            "max": 4519765,
            "min": 0,
            "orientation": "horizontal",
            "style": "IPY_MODEL_222abc23d88543259aced7436d433666",
            "value": 4519765
          }
        },
        "aae2d288090f4b3ca5c8c5e9c69df827": {
          "model_module": "@jupyter-widgets/controls",
          "model_name": "HTMLModel",
          "model_module_version": "1.5.0",
          "state": {
            "_dom_classes": [],
            "_model_module": "@jupyter-widgets/controls",
            "_model_module_version": "1.5.0",
            "_model_name": "HTMLModel",
            "_view_count": null,
            "_view_module": "@jupyter-widgets/controls",
            "_view_module_version": "1.5.0",
            "_view_name": "HTMLView",
            "description": "",
            "description_tooltip": null,
            "layout": "IPY_MODEL_829f19d14e714eaf844462dabd9bfa8e",
            "placeholder": "​",
            "style": "IPY_MODEL_d3b2463ad72e47a59afb154252179f4c",
            "value": " 4.52M/4.52M [00:01&lt;00:00, 4.60MB/s]"
          }
        },
        "4af384dccfb94fcd9f0515e9be92342c": {
          "model_module": "@jupyter-widgets/base",
          "model_name": "LayoutModel",
          "model_module_version": "1.2.0",
          "state": {
            "_model_module": "@jupyter-widgets/base",
            "_model_module_version": "1.2.0",
            "_model_name": "LayoutModel",
            "_view_count": null,
            "_view_module": "@jupyter-widgets/base",
            "_view_module_version": "1.2.0",
            "_view_name": "LayoutView",
            "align_content": null,
            "align_items": null,
            "align_self": null,
            "border": null,
            "bottom": null,
            "display": null,
            "flex": null,
            "flex_flow": null,
            "grid_area": null,
            "grid_auto_columns": null,
            "grid_auto_flow": null,
            "grid_auto_rows": null,
            "grid_column": null,
            "grid_gap": null,
            "grid_row": null,
            "grid_template_areas": null,
            "grid_template_columns": null,
            "grid_template_rows": null,
            "height": null,
            "justify_content": null,
            "justify_items": null,
            "left": null,
            "margin": null,
            "max_height": null,
            "max_width": null,
            "min_height": null,
            "min_width": null,
            "object_fit": null,
            "object_position": null,
            "order": null,
            "overflow": null,
            "overflow_x": null,
            "overflow_y": null,
            "padding": null,
            "right": null,
            "top": null,
            "visibility": null,
            "width": null
          }
        },
        "aeb6e42fc835469691aa4ce27cce597b": {
          "model_module": "@jupyter-widgets/base",
          "model_name": "LayoutModel",
          "model_module_version": "1.2.0",
          "state": {
            "_model_module": "@jupyter-widgets/base",
            "_model_module_version": "1.2.0",
            "_model_name": "LayoutModel",
            "_view_count": null,
            "_view_module": "@jupyter-widgets/base",
            "_view_module_version": "1.2.0",
            "_view_name": "LayoutView",
            "align_content": null,
            "align_items": null,
            "align_self": null,
            "border": null,
            "bottom": null,
            "display": null,
            "flex": null,
            "flex_flow": null,
            "grid_area": null,
            "grid_auto_columns": null,
            "grid_auto_flow": null,
            "grid_auto_rows": null,
            "grid_column": null,
            "grid_gap": null,
            "grid_row": null,
            "grid_template_areas": null,
            "grid_template_columns": null,
            "grid_template_rows": null,
            "height": null,
            "justify_content": null,
            "justify_items": null,
            "left": null,
            "margin": null,
            "max_height": null,
            "max_width": null,
            "min_height": null,
            "min_width": null,
            "object_fit": null,
            "object_position": null,
            "order": null,
            "overflow": null,
            "overflow_x": null,
            "overflow_y": null,
            "padding": null,
            "right": null,
            "top": null,
            "visibility": null,
            "width": null
          }
        },
        "b4e40ebd78444fa9a17055442dab9b40": {
          "model_module": "@jupyter-widgets/controls",
          "model_name": "DescriptionStyleModel",
          "model_module_version": "1.5.0",
          "state": {
            "_model_module": "@jupyter-widgets/controls",
            "_model_module_version": "1.5.0",
            "_model_name": "DescriptionStyleModel",
            "_view_count": null,
            "_view_module": "@jupyter-widgets/base",
            "_view_module_version": "1.2.0",
            "_view_name": "StyleView",
            "description_width": ""
          }
        },
        "e52770c8198e4dc489fdbf07f36e9f10": {
          "model_module": "@jupyter-widgets/base",
          "model_name": "LayoutModel",
          "model_module_version": "1.2.0",
          "state": {
            "_model_module": "@jupyter-widgets/base",
            "_model_module_version": "1.2.0",
            "_model_name": "LayoutModel",
            "_view_count": null,
            "_view_module": "@jupyter-widgets/base",
            "_view_module_version": "1.2.0",
            "_view_name": "LayoutView",
            "align_content": null,
            "align_items": null,
            "align_self": null,
            "border": null,
            "bottom": null,
            "display": null,
            "flex": null,
            "flex_flow": null,
            "grid_area": null,
            "grid_auto_columns": null,
            "grid_auto_flow": null,
            "grid_auto_rows": null,
            "grid_column": null,
            "grid_gap": null,
            "grid_row": null,
            "grid_template_areas": null,
            "grid_template_columns": null,
            "grid_template_rows": null,
            "height": null,
            "justify_content": null,
            "justify_items": null,
            "left": null,
            "margin": null,
            "max_height": null,
            "max_width": null,
            "min_height": null,
            "min_width": null,
            "object_fit": null,
            "object_position": null,
            "order": null,
            "overflow": null,
            "overflow_x": null,
            "overflow_y": null,
            "padding": null,
            "right": null,
            "top": null,
            "visibility": null,
            "width": null
          }
        },
        "222abc23d88543259aced7436d433666": {
          "model_module": "@jupyter-widgets/controls",
          "model_name": "ProgressStyleModel",
          "model_module_version": "1.5.0",
          "state": {
            "_model_module": "@jupyter-widgets/controls",
            "_model_module_version": "1.5.0",
            "_model_name": "ProgressStyleModel",
            "_view_count": null,
            "_view_module": "@jupyter-widgets/base",
            "_view_module_version": "1.2.0",
            "_view_name": "StyleView",
            "bar_color": null,
            "description_width": ""
          }
        },
        "829f19d14e714eaf844462dabd9bfa8e": {
          "model_module": "@jupyter-widgets/base",
          "model_name": "LayoutModel",
          "model_module_version": "1.2.0",
          "state": {
            "_model_module": "@jupyter-widgets/base",
            "_model_module_version": "1.2.0",
            "_model_name": "LayoutModel",
            "_view_count": null,
            "_view_module": "@jupyter-widgets/base",
            "_view_module_version": "1.2.0",
            "_view_name": "LayoutView",
            "align_content": null,
            "align_items": null,
            "align_self": null,
            "border": null,
            "bottom": null,
            "display": null,
            "flex": null,
            "flex_flow": null,
            "grid_area": null,
            "grid_auto_columns": null,
            "grid_auto_flow": null,
            "grid_auto_rows": null,
            "grid_column": null,
            "grid_gap": null,
            "grid_row": null,
            "grid_template_areas": null,
            "grid_template_columns": null,
            "grid_template_rows": null,
            "height": null,
            "justify_content": null,
            "justify_items": null,
            "left": null,
            "margin": null,
            "max_height": null,
            "max_width": null,
            "min_height": null,
            "min_width": null,
            "object_fit": null,
            "object_position": null,
            "order": null,
            "overflow": null,
            "overflow_x": null,
            "overflow_y": null,
            "padding": null,
            "right": null,
            "top": null,
            "visibility": null,
            "width": null
          }
        },
        "d3b2463ad72e47a59afb154252179f4c": {
          "model_module": "@jupyter-widgets/controls",
          "model_name": "DescriptionStyleModel",
          "model_module_version": "1.5.0",
          "state": {
            "_model_module": "@jupyter-widgets/controls",
            "_model_module_version": "1.5.0",
            "_model_name": "DescriptionStyleModel",
            "_view_count": null,
            "_view_module": "@jupyter-widgets/base",
            "_view_module_version": "1.2.0",
            "_view_name": "StyleView",
            "description_width": ""
          }
        }
      }
    }
  },
  "cells": [
    {
      "cell_type": "code",
      "execution_count": 11,
      "metadata": {
        "colab": {
          "base_uri": "https://localhost:8080/"
        },
        "id": "sqCyfWWqz4X9",
        "outputId": "55bb5047-0cf4-43f7-a413-99a77e88b4d8"
      },
      "outputs": [
        {
          "output_type": "stream",
          "name": "stdout",
          "text": [
            "Requirement already satisfied: transformers in /usr/local/lib/python3.7/dist-packages (4.2.2)\n",
            "Requirement already satisfied: requests in /usr/local/lib/python3.7/dist-packages (from transformers) (2.23.0)\n",
            "Requirement already satisfied: tokenizers==0.9.4 in /usr/local/lib/python3.7/dist-packages (from transformers) (0.9.4)\n",
            "Requirement already satisfied: sacremoses in /usr/local/lib/python3.7/dist-packages (from transformers) (0.0.53)\n",
            "Requirement already satisfied: regex!=2019.12.17 in /usr/local/lib/python3.7/dist-packages (from transformers) (2019.12.20)\n",
            "Requirement already satisfied: numpy in /usr/local/lib/python3.7/dist-packages (from transformers) (1.21.6)\n",
            "Requirement already satisfied: tqdm>=4.27 in /usr/local/lib/python3.7/dist-packages (from transformers) (4.64.0)\n",
            "Requirement already satisfied: filelock in /usr/local/lib/python3.7/dist-packages (from transformers) (3.7.0)\n",
            "Requirement already satisfied: importlib-metadata in /usr/local/lib/python3.7/dist-packages (from transformers) (4.11.3)\n",
            "Requirement already satisfied: packaging in /usr/local/lib/python3.7/dist-packages (from transformers) (21.3)\n",
            "Requirement already satisfied: zipp>=0.5 in /usr/local/lib/python3.7/dist-packages (from importlib-metadata->transformers) (3.8.0)\n",
            "Requirement already satisfied: typing-extensions>=3.6.4 in /usr/local/lib/python3.7/dist-packages (from importlib-metadata->transformers) (4.2.0)\n",
            "Requirement already satisfied: pyparsing!=3.0.5,>=2.0.2 in /usr/local/lib/python3.7/dist-packages (from packaging->transformers) (3.0.9)\n",
            "Requirement already satisfied: idna<3,>=2.5 in /usr/local/lib/python3.7/dist-packages (from requests->transformers) (2.10)\n",
            "Requirement already satisfied: urllib3!=1.25.0,!=1.25.1,<1.26,>=1.21.1 in /usr/local/lib/python3.7/dist-packages (from requests->transformers) (1.25.11)\n",
            "Requirement already satisfied: chardet<4,>=3.0.2 in /usr/local/lib/python3.7/dist-packages (from requests->transformers) (3.0.4)\n",
            "Requirement already satisfied: certifi>=2017.4.17 in /usr/local/lib/python3.7/dist-packages (from requests->transformers) (2021.10.8)\n",
            "Requirement already satisfied: joblib in /usr/local/lib/python3.7/dist-packages (from sacremoses->transformers) (1.1.0)\n",
            "Requirement already satisfied: click in /usr/local/lib/python3.7/dist-packages (from sacremoses->transformers) (7.1.2)\n",
            "Requirement already satisfied: six in /usr/local/lib/python3.7/dist-packages (from sacremoses->transformers) (1.15.0)\n",
            "Requirement already satisfied: farasapy in /usr/local/lib/python3.7/dist-packages (0.0.14)\n",
            "Requirement already satisfied: tqdm in /usr/local/lib/python3.7/dist-packages (from farasapy) (4.64.0)\n",
            "Requirement already satisfied: requests in /usr/local/lib/python3.7/dist-packages (from farasapy) (2.23.0)\n",
            "Requirement already satisfied: certifi>=2017.4.17 in /usr/local/lib/python3.7/dist-packages (from requests->farasapy) (2021.10.8)\n",
            "Requirement already satisfied: urllib3!=1.25.0,!=1.25.1,<1.26,>=1.21.1 in /usr/local/lib/python3.7/dist-packages (from requests->farasapy) (1.25.11)\n",
            "Requirement already satisfied: idna<3,>=2.5 in /usr/local/lib/python3.7/dist-packages (from requests->farasapy) (2.10)\n",
            "Requirement already satisfied: chardet<4,>=3.0.2 in /usr/local/lib/python3.7/dist-packages (from requests->farasapy) (3.0.4)\n",
            "Requirement already satisfied: pyarabic in /usr/local/lib/python3.7/dist-packages (0.6.14)\n",
            "Requirement already satisfied: six>=1.14.0 in /usr/local/lib/python3.7/dist-packages (from pyarabic) (1.15.0)\n"
          ]
        }
      ],
      "source": [
        "!pip install transformers \n",
        "!pip install farasapy \n",
        "!pip install pyarabic "
      ]
    },
    {
      "cell_type": "code",
      "source": [
        "!git clone https://github.com/aub-mind/arabert.git"
      ],
      "metadata": {
        "colab": {
          "base_uri": "https://localhost:8080/"
        },
        "id": "KlDcZydb0FYS",
        "outputId": "c7a1f9e0-3738-4eb9-9240-aa1bd105c626"
      },
      "execution_count": 2,
      "outputs": [
        {
          "output_type": "stream",
          "name": "stdout",
          "text": [
            "fatal: destination path 'arabert' already exists and is not an empty directory.\n"
          ]
        }
      ]
    },
    {
      "cell_type": "code",
      "source": [
        "#import GPT2LMHeadModel for Text generation and GPT2Tokenizer for tokenizing the text.\n",
        "from transformers import GPT2TokenizerFast, pipeline\n",
        "#for base and medium\n",
        "from transformers import GPT2LMHeadModel\n",
        "#for large and mega\n",
        "from arabert.preprocess import ArabertPreprocessor"
      ],
      "metadata": {
        "id": "hXBmM5il1Ihu"
      },
      "execution_count": 3,
      "outputs": []
    },
    {
      "cell_type": "markdown",
      "source": [
        "AraGPT-2 base"
      ],
      "metadata": {
        "id": "yIPbKpkcxGgS"
      }
    },
    {
      "cell_type": "code",
      "source": [
        "MODEL_NAME='aubmindlab/aragpt2-base'\n",
        "arabert_prep = ArabertPreprocessor(model_name=MODEL_NAME)\n",
        "\n",
        "model = GPT2LMHeadModel.from_pretrained(MODEL_NAME)\n",
        "tokenizer = GPT2TokenizerFast.from_pretrained(MODEL_NAME)\n",
        "generation_pipeline = pipeline(\"text-generation\",model=model,tokenizer=tokenizer)"
      ],
      "metadata": {
        "colab": {
          "base_uri": "https://localhost:8080/",
          "height": 177,
          "referenced_widgets": [
            "d139f7aa55c74244babbf24339faa75b",
            "37762a0b536a4340ba6309d33f4a2ff0",
            "5d3f97f062e84c9eb4d05db8cc01f7c0",
            "51aae09562884d4386877e973b45ac56",
            "0a9632615ee84520b77373e00fca0312",
            "e672348bddff42a5ae99509f33b20f3d",
            "7fd36a9438f8424c8ebdd3026c9a705f",
            "99f483c0bfee475cac6f307c1dfd1242",
            "37e7cdb136524008936eeeb559442aff",
            "35807b7bc3e144f0958214db35feb13e",
            "7925910058564a15ac46f33f5f10d1b4",
            "bae648805a454d46b62d4767996fad28",
            "9e66e3b0c0ea4138808ba19235d4944c",
            "c08b5368d9b54daca9c7464eefc5829d",
            "465bf38c0575482480e75f9fac1fb99e",
            "8016194323734a5b9e9bad4c7e5c4545",
            "7b3a538da2194cb18fb0755638fa32be",
            "52add727b4d74d39829f7a996c7bb3e8",
            "7804c58d24e74bf98a8590f3143d6187",
            "08137abeb6f64aa0a8f23bae6659a06d",
            "6fc07721865f417db21d46ea4dc3c315",
            "23949ee656bd41f0a166b8ea5e542836",
            "53e26459509a448289a61c34f3eff276",
            "10d83bc72e0b4538919cc68269c36b0f",
            "780a82a4571148a2aab2ad20d2393069",
            "60df5a9469d64b0d9549a24f5b60c208",
            "fbd3758d41fe4e48b0a1963eab5bbff5",
            "de51af520ded4c39b1851a2d7e3409c6",
            "75f56b4ed54a4f808cf9b9b3e79282f4",
            "af229000124441b4bd31792715a24b44",
            "67c581210b2e4ec08c4ce624de547f05",
            "62bb9a98a9264e06a8364593db89dabf",
            "7c89ef1bc07e42e5ac16913031eb83c4",
            "4b316fb1e9e44aba8b164ec269fb7fcd",
            "bc683b8e64144846895e2b87523f1007",
            "32aa6ba517ef4d87b3d0412b1b147cb1",
            "957498db83ad48efb371157eae635acc",
            "203caf13a40743769b3737522de2ff2b",
            "af5d37a4711c4aac8dcc4da17bdab117",
            "7c29b6410c1f488fbb9c3472539ad1c0",
            "071a76dace2845a7973fc965fb0ad306",
            "6bcd2711d3de4c44843eb49bdff0dd94",
            "eb23415c48f5411887a7b701b6d7a3b1",
            "89eeda68752c47b38878b423a7d2d214",
            "5de0d8ff8d964746886e451e1788d68d",
            "632f0f601eff40eda44bdcd06d259762",
            "41166741ed0a476c83901fc55e4091e1",
            "aae2d288090f4b3ca5c8c5e9c69df827",
            "4af384dccfb94fcd9f0515e9be92342c",
            "aeb6e42fc835469691aa4ce27cce597b",
            "b4e40ebd78444fa9a17055442dab9b40",
            "e52770c8198e4dc489fdbf07f36e9f10",
            "222abc23d88543259aced7436d433666",
            "829f19d14e714eaf844462dabd9bfa8e",
            "d3b2463ad72e47a59afb154252179f4c"
          ]
        },
        "id": "fHzFSpTzwCoZ",
        "outputId": "f7c23722-efb8-4111-b741-c9bd6b03349e"
      },
      "execution_count": 4,
      "outputs": [
        {
          "output_type": "display_data",
          "data": {
            "text/plain": [
              "Downloading:   0%|          | 0.00/843 [00:00<?, ?B/s]"
            ],
            "application/vnd.jupyter.widget-view+json": {
              "version_major": 2,
              "version_minor": 0,
              "model_id": "d139f7aa55c74244babbf24339faa75b"
            }
          },
          "metadata": {}
        },
        {
          "output_type": "display_data",
          "data": {
            "text/plain": [
              "Downloading:   0%|          | 0.00/553M [00:00<?, ?B/s]"
            ],
            "application/vnd.jupyter.widget-view+json": {
              "version_major": 2,
              "version_minor": 0,
              "model_id": "bae648805a454d46b62d4767996fad28"
            }
          },
          "metadata": {}
        },
        {
          "output_type": "display_data",
          "data": {
            "text/plain": [
              "Downloading:   0%|          | 0.00/1.94M [00:00<?, ?B/s]"
            ],
            "application/vnd.jupyter.widget-view+json": {
              "version_major": 2,
              "version_minor": 0,
              "model_id": "53e26459509a448289a61c34f3eff276"
            }
          },
          "metadata": {}
        },
        {
          "output_type": "display_data",
          "data": {
            "text/plain": [
              "Downloading:   0%|          | 0.00/1.50M [00:00<?, ?B/s]"
            ],
            "application/vnd.jupyter.widget-view+json": {
              "version_major": 2,
              "version_minor": 0,
              "model_id": "4b316fb1e9e44aba8b164ec269fb7fcd"
            }
          },
          "metadata": {}
        },
        {
          "output_type": "display_data",
          "data": {
            "text/plain": [
              "Downloading:   0%|          | 0.00/4.52M [00:00<?, ?B/s]"
            ],
            "application/vnd.jupyter.widget-view+json": {
              "version_major": 2,
              "version_minor": 0,
              "model_id": "5de0d8ff8d964746886e451e1788d68d"
            }
          },
          "metadata": {}
        }
      ]
    },
    {
      "cell_type": "markdown",
      "source": [
        "Text prompt"
      ],
      "metadata": {
        "id": "WfH-QuBmw_OS"
      }
    },
    {
      "cell_type": "code",
      "source": [
        "sentence = \"شعرت بالسعادة\""
      ],
      "metadata": {
        "id": "JRyt-k0NwMIu"
      },
      "execution_count": 5,
      "outputs": []
    },
    {
      "cell_type": "code",
      "source": [
        "input_ids = tokenizer.encode(sentence, return_tensors = 'pt')"
      ],
      "metadata": {
        "id": "StS4qugEwPFb"
      },
      "execution_count": 6,
      "outputs": []
    },
    {
      "cell_type": "code",
      "source": [
        "input_ids"
      ],
      "metadata": {
        "colab": {
          "base_uri": "https://localhost:8080/"
        },
        "id": "GC0u_AujwRUP",
        "outputId": "d33f1e60-75c3-4cb4-9e0e-3004bbd15a1d"
      },
      "execution_count": 7,
      "outputs": [
        {
          "output_type": "execute_result",
          "data": {
            "text/plain": [
              "tensor([[14223,   273, 35098]])"
            ]
          },
          "metadata": {},
          "execution_count": 7
        }
      ]
    },
    {
      "cell_type": "code",
      "source": [
        "tokenizer.decode(input_ids[0])"
      ],
      "metadata": {
        "colab": {
          "base_uri": "https://localhost:8080/",
          "height": 35
        },
        "id": "D9T2XvhOwUW_",
        "outputId": "414d9d8d-3969-4266-99ac-8a411e4d9fd7"
      },
      "execution_count": 8,
      "outputs": [
        {
          "output_type": "execute_result",
          "data": {
            "text/plain": [
              "'شعرت بالسعادة'"
            ],
            "application/vnd.google.colaboratory.intrinsic+json": {
              "type": "string"
            }
          },
          "metadata": {},
          "execution_count": 8
        }
      ]
    },
    {
      "cell_type": "code",
      "source": [
        "def generate_text(text):\n",
        "  text_clean = arabert_prep.preprocess(text)\n",
        "  result = generation_pipeline(text_clean,\n",
        "                                pad_token_id=tokenizer.eos_token_id,\n",
        "                                num_beams=10,\n",
        "                                max_length=100,\n",
        "                                top_p=0.9,\n",
        "                                repetition_penalty = 3.0,\n",
        "                                no_repeat_ngram_size = 3)[0]['generated_text']\n",
        "  return result"
      ],
      "metadata": {
        "id": "xpc6c_mZwVjj"
      },
      "execution_count": 9,
      "outputs": []
    },
    {
      "cell_type": "code",
      "source": [
        "generate_text(sentence)"
      ],
      "metadata": {
        "colab": {
          "base_uri": "https://localhost:8080/",
          "height": 124
        },
        "id": "Z7hatSlFwa5P",
        "outputId": "29aaad17-c468-4ce6-e87a-bfaf1623555f"
      },
      "execution_count": 14,
      "outputs": [
        {
          "output_type": "stream",
          "name": "stderr",
          "text": [
            "/usr/local/lib/python3.7/dist-packages/transformers/generation_utils.py:1890: UserWarning: __floordiv__ is deprecated, and its behavior will change in a future version of pytorch. It currently rounds toward 0 (like the 'trunc' function NOT 'floor'). This results in incorrect rounding for negative values. To keep the current behavior, use torch.div(a, b, rounding_mode='trunc'), or for actual floor division, use torch.div(a, b, rounding_mode='floor').\n",
            "  next_indices = next_tokens // vocab_size\n"
          ]
        },
        {
          "output_type": "execute_result",
          "data": {
            "text/plain": [
              "'شعرت بالسعادة التي كانت تغمرني عندما علمت أن هناك من هو أكثر سعادة مني في الدنيا ، ومن هو أكثر حزنا مني في الآخرة .لكن ما الذي حدث لي بعد ذلك ؟ لم يكن الأمر سهلا على الإطلاق ، فقد كان كل شيء مبهرا بالنسبة لي ، ولم أكن أتخيل أني سأحصل على هذا القدر من السعادة إلا إذا كنت قد حصلت على هذه الدرجة من السعادة .ومنذ ذلك الحين وأنا أحظى بسعادة لا مثيل لها ، حتى أنني أصبحت أعيش حياتي بشكل مختلف تماما عما كنت عليه'"
            ],
            "application/vnd.google.colaboratory.intrinsic+json": {
              "type": "string"
            }
          },
          "metadata": {},
          "execution_count": 14
        }
      ]
    },
    {
      "cell_type": "markdown",
      "source": [
        "GPT2-Small-Arabic"
      ],
      "metadata": {
        "id": "Zz4G3Y8f2sZN"
      }
    },
    {
      "cell_type": "code",
      "source": [
        "!pip install -q transformers"
      ],
      "metadata": {
        "id": "sy9l2Y5L5fEa"
      },
      "execution_count": null,
      "outputs": []
    },
    {
      "cell_type": "code",
      "source": [
        "from transformers import AutoTokenizer, AutoModelWithLMHead\n",
        "tokenizer = AutoTokenizer.from_pretrained(\"akhooli/gpt2-small-arabic\")\n",
        "model = AutoModelWithLMHead.from_pretrained(\"akhooli/gpt2-small-arabic\")"
      ],
      "metadata": {
        "colab": {
          "base_uri": "https://localhost:8080/"
        },
        "id": "2JnRg13g2roe",
        "outputId": "adaafe35-bfe6-404e-e6dc-7735b68b4f11"
      },
      "execution_count": 58,
      "outputs": [
        {
          "output_type": "stream",
          "name": "stderr",
          "text": [
            "/usr/local/lib/python3.7/dist-packages/transformers/models/auto/modeling_auto.py:925: FutureWarning: The class `AutoModelWithLMHead` is deprecated and will be removed in a future version. Please use `AutoModelForCausalLM` for causal language models, `AutoModelForMaskedLM` for masked language models and `AutoModelForSeq2SeqLM` for encoder-decoder models.\n",
            "  FutureWarning,\n"
          ]
        }
      ]
    },
    {
      "cell_type": "code",
      "source": [
        "import torch\n",
        "device = torch.device('cuda' if torch.cuda.is_available() else 'cpu')"
      ],
      "metadata": {
        "id": "LItEVbyB8F3-"
      },
      "execution_count": 63,
      "outputs": []
    },
    {
      "cell_type": "code",
      "source": [
        "sentence2 = \"القدس مدينة تاريخية تقع في \""
      ],
      "metadata": {
        "id": "54xZrrRI54kq"
      },
      "execution_count": 60,
      "outputs": []
    },
    {
      "cell_type": "code",
      "source": [
        "def generate_text(text):\n",
        "  try:\n",
        "    input_ids = tokenizer.encode(sentence2, return_tensors='pt').to(device) \n",
        "    model.to(device)\n",
        "    max_length = 100\n",
        "    #set top_k = 40 and num_return_sequences = 3\n",
        "    sample_outputs = model.generate(input_ids, pad_token_id=50256,\n",
        "                                      do_sample=True, \n",
        "                                      max_length=max_length, \n",
        "                                      min_length=max_length,\n",
        "                                      top_k=40,\n",
        "                                      num_return_sequences=5)\n",
        "\n",
        "    for i, sample_output in enumerate(sample_outputs):\n",
        "        print(\">> Generated text {}\\n\\n{}\".format(i+1, tokenizer.decode(sample_output.tolist())))\n",
        "        print('\\n---')\n",
        "  except exception as e:\n",
        "    print(\"Something Wrong\",e)"
      ],
      "metadata": {
        "id": "mtoJuVKR5FeT"
      },
      "execution_count": 61,
      "outputs": []
    },
    {
      "cell_type": "code",
      "source": [
        "generate_text(sentence2)"
      ],
      "metadata": {
        "colab": {
          "base_uri": "https://localhost:8080/"
        },
        "id": "IouNOIUv53g4",
        "outputId": "a669f695-40d0-4e4e-e46e-acc347ad075c"
      },
      "execution_count": 62,
      "outputs": [
        {
          "output_type": "stream",
          "name": "stdout",
          "text": [
            ">> Generated text 1\n",
            "\n",
            "القدس مدينة تاريخية تقع في اهرام في منطقة الجليل الأعلى. وقد ورد ذلك في إنجيل متى، وقال يسوع أن مريم قد تزوجت من الرسول محمد فقال: ما الذي هو الذي يخون له؟ قال: ما الذي هو الذي يخون لنا؟ وقال: ما الذي هو لا يعرفونه؟ قال: فإن الله يأمر على ما ينبغي له أن يأمر عليه، ثم طلب منه أن يعطي في الوقت المناسب، فقال، إن كنت غير قادر على فعل شيء من هذا الكلام. وقد ورد في إنجيل متى،\n",
            "\n",
            "---\n",
            ">> Generated text 2\n",
            "\n",
            "القدس مدينة تاريخية تقع في ادة شمال ولاية ولاية الخرطوم في السودان حيث كانت تسكن في تلك الفترة منطقة الشلالات. تقع الولاية على الحدود السودانية مع دولة السودان حيث تحتوي على عدد من الفنادق التي تعتبر الأكبر في العالم. تضم الولاية ثلاثة متاحف منها : قاعة السياحة القديمة والتي تضم قاعة سينما و مكتبة عامة بالإضافة إلى مجموعة من المتاحف القديمة، وكذلك مجموعة من التحف الأثرية ومنها المتحف البريطاني ومتحف السودان الوطني. تعد مدينة المهدية مركز ناحية دنقلا بحري هام، كما تقع على الحدود الشرقية من السودان التي تضم عددا من المسارح\n",
            "\n",
            "---\n",
            ">> Generated text 3\n",
            "\n",
            "القدس مدينة تاريخية تقع في اهرمان في شمال فلسطين. يحدها شمالا من الشمال مدينة غزة ويحدها جنوبا مدينة عسقلان ويحدها شمالا المدينة الصناعية ثم من الشرق طريق غزة ومن الجنوب مدينة الخليل. يحدها شمالا بلدة بيت لحم وتبعد عن وسط إسرائيل عن مدينة بيت لحم مسافة 7كم. وترتفع عن سطح البحر 450م. يوجد فيها قبر قديم يعتقد أنها تم بناء على تل تل أحمر. يبلغ عدد سكان بيت لحم حوالي 300 الف نسمة، وهي ثاني أهم مدينة في فلسطين بعد مدينة القدس، حيث يوجد فيها أكثر من 40\n",
            "\n",
            "---\n",
            ">> Generated text 4\n",
            "\n",
            "القدس مدينة تاريخية تقع في اإلآن على مسافة 10 كم من جنوب مدينة دمشق وقد تأسست المدينة على يد الوالي العثماني جمال باشا السفاح عام 1924م. تضم المدن والقرى أيضا: دير المدينة التاريخي، ودير المدينة التاريخي في القدس، ودير مارلود وحي النطرون. تقع على خط الطول 8.5 كم وتبعد عن مدينة دمشق 7 كم. بلغ عدد سكانها حوالي 7 000 نسمة في تعداد عام 2004. تقع على بعد نحو 1 كم من المدينة القديمة. في حين يبلغ عدد سكان البلدة حوالي 4\n",
            "\n",
            "---\n",
            ">> Generated text 5\n",
            "\n",
            "القدس مدينة تاريخية تقع في اديافاج، على بعد ثلاثة أميال 12 كلم جنوب مدينة اندرا ا، وتعتبر مدينة اندرا ا من المدن الاجرامية في اندرا ا، وتحتوي هذه المدينة على الكثير من المعالم التاريخية مثل قصر قديم في مدينة اندرا ا الذي يعود تاريخه إلى اندرا ا، و تعتبر المدينة التي تعود إلى فترة الحكم العثماني إلى هذه الفترة، حيث توجد العديد من القصور الشهيرة في اندرا ا مثل قصر قديم في مدينة اندرا ا، و قصر قديم في اندرا\n",
            "\n",
            "---\n"
          ]
        }
      ]
    },
    {
      "cell_type": "markdown",
      "source": [
        "GPT2-Small-Arabic-Poetry"
      ],
      "metadata": {
        "id": "GvtTXfSH5UiH"
      }
    },
    {
      "cell_type": "code",
      "source": [
        "tokenizer= AutoTokenizer.from_pretrained(\"akhooli/gpt2-small-arabic-poetry\")\n",
        "model = AutoModelWithLMHead.from_pretrained(\"akhooli/gpt2-small-arabic-poetry\")"
      ],
      "metadata": {
        "colab": {
          "base_uri": "https://localhost:8080/"
        },
        "id": "7OSwv7Vn5bdN",
        "outputId": "0f2c756f-ef8e-4c86-e886-bf7163339999"
      },
      "execution_count": 64,
      "outputs": [
        {
          "output_type": "stream",
          "name": "stderr",
          "text": [
            "/usr/local/lib/python3.7/dist-packages/transformers/models/auto/modeling_auto.py:925: FutureWarning: The class `AutoModelWithLMHead` is deprecated and will be removed in a future version. Please use `AutoModelForCausalLM` for causal language models, `AutoModelForMaskedLM` for masked language models and `AutoModelForSeq2SeqLM` for encoder-decoder models.\n",
            "  FutureWarning,\n"
          ]
        }
      ]
    },
    {
      "cell_type": "code",
      "source": [
        "sentence3 = \"الحب\""
      ],
      "metadata": {
        "id": "ZnL1f5lO9kX8"
      },
      "execution_count": 69,
      "outputs": []
    },
    {
      "cell_type": "code",
      "source": [
        "def generate_text(text):\n",
        "  try:\n",
        "    input_ids = tokenizer.encode(sentence3, return_tensors='pt').to(device) \n",
        "    model.to(device)\n",
        "    max_length = 100\n",
        "    #set top_k = 40 and num_return_sequences = 3\n",
        "    sample_outputs = model.generate(input_ids, pad_token_id=50256,\n",
        "                                      do_sample=True, \n",
        "                                      max_length=max_length, \n",
        "                                      min_length=max_length,\n",
        "                                      top_k=40,\n",
        "                                      num_return_sequences=5)\n",
        "\n",
        "    for i, sample_output in enumerate(sample_outputs):\n",
        "        print(\">> Generated text {}\\n\\n{}\".format(i+1, tokenizer.decode(sample_output.tolist())))\n",
        "        print('\\n---')\n",
        "  except exception as e:\n",
        "    print(\"Something Wrong\",e)"
      ],
      "metadata": {
        "id": "2Uztrg9P5ntN"
      },
      "execution_count": 70,
      "outputs": []
    },
    {
      "cell_type": "code",
      "source": [
        "generate_text(sentence3)"
      ],
      "metadata": {
        "colab": {
          "base_uri": "https://localhost:8080/"
        },
        "id": "7d6wg7-j90f4",
        "outputId": "0a78d665-1fcf-43f9-a54d-41820cc7b548"
      },
      "execution_count": 71,
      "outputs": [
        {
          "output_type": "stream",
          "name": "stdout",
          "text": [
            ">> Generated text 1\n",
            "\n",
            "الحبوع ولا غرو - ء ولا عار ولا شيق. يذم البخل ولا يروي - ت له في النهود ولا رق. إمام هدى الله في كل حي - لك يا خير العالمين على وتر. هو من يرجو السلامة أو يرى - ك يا خير الورى على كفر. نازعه في كل بيت في الندى - ك لا يرجى له من غير عار. مولاي خذها مني يا خير الورى \n",
            "\n",
            "---\n",
            ">> Generated text 2\n",
            "\n",
            "الحبالة أم عبدك من نائل - كذاك العنا والسهل أم داثر. رأيت الناس طرا غير أن مراحهم - خيلت في غمد من العباب الثائر. أرى الناس أحشاء أن يسددوا بنعمة - وإن كان ما إن تراه فهو كافر. ولاقى ما أهلكت غير مدافع - من البخل والجود من كل جانب. إذ نحن أناس عن خير نائل - فإن لم\n",
            "\n",
            "---\n",
            ">> Generated text 3\n",
            "\n",
            "الحبنا بها ما قد حنت من الحشا - ولا من يد بيضاء لم تفز يوما. ومجلسنا بين البطان روضها - كما راق من البان الأبيحا. فهي في الحسن ما حنت نياقها - كما راق من البان الأبيحا. وكم قضيتها بعد اللطف بها - ويا ربرب لا تنهى بها المنى. فكم من نعمة بين الأنام بها - وكم من نعمة بين الأنام\n",
            "\n",
            "---\n",
            ">> Generated text 4\n",
            "\n",
            "الحبينا لنا على رغم أنفاسه - كأن عيونهن صوارم. من كل صفراء كحيله - من خمر نواره وعساج. أحبابنا مثل الصباح إذا همى - كأنهن سرناه شجاج. لله عينا ما زال يخدمنا - من كل ورد في كل ملازمي. كأنهم من كل برق كأنما - قدود غبوقهم خضرا رطاج. تسلب\n",
            "\n",
            "---\n",
            ">> Generated text 5\n",
            "\n",
            "الحبينا نأتينا بالهدى طائعا - إلى من أهوى ما فيهن من نفرة. بقيت لنا في الحسن من حيثنا - نؤملنا في ذلك من غلة. وكن بنا في الحسن لما أن نرى - لنا قد نعبت وما بين تلك الحبيرة. نصرنا به في كل ناحية - وليس علينا في الحسن مما نرى. متى ما نرى إن عسى أن يجودنا - لنا في\n",
            "\n",
            "---\n"
          ]
        }
      ]
    },
    {
      "cell_type": "markdown",
      "source": [
        "Fine-tuning the based on @HHShkMohd tweets\n",
        "\n"
      ],
      "metadata": {
        "id": "7JUnDyiEwmze"
      }
    },
    {
      "cell_type": "code",
      "source": [
        "!pip install --upgrade simpletransformers tokenizers==0.9.4\n",
        "!pip install pytorch cpuonly -c pytorch"
      ],
      "metadata": {
        "colab": {
          "base_uri": "https://localhost:8080/"
        },
        "id": "okUn7uP6xOuQ",
        "outputId": "58d33876-b2b0-4e36-f2b3-c04d469840b5"
      },
      "execution_count": 12,
      "outputs": [
        {
          "output_type": "stream",
          "name": "stdout",
          "text": [
            "Requirement already satisfied: simpletransformers in /usr/local/lib/python3.7/dist-packages (0.61.14)\n",
            "Collecting simpletransformers\n",
            "  Using cached simpletransformers-0.63.6-py3-none-any.whl (249 kB)\n",
            "Requirement already satisfied: tokenizers==0.9.4 in /usr/local/lib/python3.7/dist-packages (0.9.4)\n",
            "Requirement already satisfied: tqdm>=4.47.0 in /usr/local/lib/python3.7/dist-packages (from simpletransformers) (4.64.0)\n",
            "Requirement already satisfied: requests in /usr/local/lib/python3.7/dist-packages (from simpletransformers) (2.23.0)\n",
            "Requirement already satisfied: wandb>=0.10.32 in /usr/local/lib/python3.7/dist-packages (from simpletransformers) (0.12.16)\n",
            "Requirement already satisfied: pandas in /usr/local/lib/python3.7/dist-packages (from simpletransformers) (1.3.5)\n",
            "Collecting transformers>=4.6.0\n",
            "  Using cached transformers-4.19.2-py3-none-any.whl (4.2 MB)\n",
            "Requirement already satisfied: datasets in /usr/local/lib/python3.7/dist-packages (from simpletransformers) (2.2.2)\n",
            "Requirement already satisfied: scipy in /usr/local/lib/python3.7/dist-packages (from simpletransformers) (1.4.1)\n",
            "Requirement already satisfied: regex in /usr/local/lib/python3.7/dist-packages (from simpletransformers) (2019.12.20)\n",
            "Requirement already satisfied: streamlit in /usr/local/lib/python3.7/dist-packages (from simpletransformers) (1.9.0)\n",
            "Requirement already satisfied: seqeval in /usr/local/lib/python3.7/dist-packages (from simpletransformers) (1.2.2)\n",
            "Requirement already satisfied: scikit-learn in /usr/local/lib/python3.7/dist-packages (from simpletransformers) (1.0.2)\n",
            "Requirement already satisfied: numpy in /usr/local/lib/python3.7/dist-packages (from simpletransformers) (1.21.6)\n",
            "Requirement already satisfied: sentencepiece in /usr/local/lib/python3.7/dist-packages (from simpletransformers) (0.1.96)\n",
            "Requirement already satisfied: tensorboard in /usr/local/lib/python3.7/dist-packages (from simpletransformers) (2.8.0)\n",
            "Requirement already satisfied: packaging>=20.0 in /usr/local/lib/python3.7/dist-packages (from transformers>=4.6.0->simpletransformers) (21.3)\n",
            "Requirement already satisfied: huggingface-hub<1.0,>=0.1.0 in /usr/local/lib/python3.7/dist-packages (from transformers>=4.6.0->simpletransformers) (0.6.0)\n",
            "  Using cached transformers-4.19.1-py3-none-any.whl (4.2 MB)\n",
            "  Using cached transformers-4.19.0-py3-none-any.whl (4.2 MB)\n",
            "  Using cached transformers-4.18.0-py3-none-any.whl (4.0 MB)\n",
            "Requirement already satisfied: sacremoses in /usr/local/lib/python3.7/dist-packages (from transformers>=4.6.0->simpletransformers) (0.0.53)\n",
            "  Using cached transformers-4.17.0-py3-none-any.whl (3.8 MB)\n",
            "  Using cached transformers-4.16.2-py3-none-any.whl (3.5 MB)\n",
            "  Using cached transformers-4.16.1-py3-none-any.whl (3.5 MB)\n",
            "  Using cached transformers-4.16.0-py3-none-any.whl (3.5 MB)\n",
            "  Using cached transformers-4.15.0-py3-none-any.whl (3.4 MB)\n",
            "  Using cached transformers-4.14.1-py3-none-any.whl (3.4 MB)\n",
            "  Using cached transformers-4.13.0-py3-none-any.whl (3.3 MB)\n",
            "  Using cached transformers-4.12.5-py3-none-any.whl (3.1 MB)\n",
            "  Using cached transformers-4.12.4-py3-none-any.whl (3.1 MB)\n",
            "  Using cached transformers-4.12.3-py3-none-any.whl (3.1 MB)\n",
            "  Using cached transformers-4.12.2-py3-none-any.whl (3.1 MB)\n",
            "  Using cached transformers-4.12.1-py3-none-any.whl (3.1 MB)\n",
            "  Using cached transformers-4.12.0-py3-none-any.whl (3.1 MB)\n",
            "  Using cached transformers-4.11.3-py3-none-any.whl (2.9 MB)\n",
            "  Using cached transformers-4.11.2-py3-none-any.whl (2.9 MB)\n",
            "  Using cached transformers-4.11.1-py3-none-any.whl (2.9 MB)\n",
            "  Using cached transformers-4.11.0-py3-none-any.whl (2.9 MB)\n",
            "  Using cached transformers-4.10.3-py3-none-any.whl (2.8 MB)\n",
            "  Using cached transformers-4.10.2-py3-none-any.whl (2.8 MB)\n",
            "  Using cached transformers-4.10.1-py3-none-any.whl (2.8 MB)\n",
            "  Using cached transformers-4.10.0-py3-none-any.whl (2.8 MB)\n",
            "  Using cached transformers-4.9.2-py3-none-any.whl (2.6 MB)\n",
            "Collecting huggingface-hub==0.0.12\n",
            "  Downloading huggingface_hub-0.0.12-py3-none-any.whl (37 kB)\n",
            "Collecting transformers>=4.6.0\n",
            "  Using cached transformers-4.9.1-py3-none-any.whl (2.6 MB)\n",
            "  Using cached transformers-4.9.0-py3-none-any.whl (2.6 MB)\n",
            "  Using cached transformers-4.8.2-py3-none-any.whl (2.5 MB)\n",
            "  Using cached transformers-4.8.1-py3-none-any.whl (2.5 MB)\n",
            "  Using cached transformers-4.8.0-py3-none-any.whl (2.5 MB)\n",
            "  Using cached transformers-4.7.0-py3-none-any.whl (2.5 MB)\n",
            "Collecting huggingface-hub==0.0.8\n",
            "  Downloading huggingface_hub-0.0.8-py3-none-any.whl (34 kB)\n",
            "Collecting transformers>=4.6.0\n",
            "  Using cached transformers-4.6.1-py3-none-any.whl (2.2 MB)\n",
            "  Using cached transformers-4.6.0-py3-none-any.whl (2.3 MB)\n",
            "INFO: pip is looking at multiple versions of tqdm to determine which version is compatible with other requirements. This could take a while.\n",
            "Collecting tqdm>=4.47.0\n",
            "  Using cached tqdm-4.64.0-py2.py3-none-any.whl (78 kB)\n",
            "  Using cached tqdm-4.63.2-py2.py3-none-any.whl (76 kB)\n",
            "  Using cached tqdm-4.63.1-py2.py3-none-any.whl (76 kB)\n",
            "  Using cached tqdm-4.63.0-py2.py3-none-any.whl (76 kB)\n",
            "  Using cached tqdm-4.62.3-py2.py3-none-any.whl (76 kB)\n",
            "  Using cached tqdm-4.62.2-py2.py3-none-any.whl (76 kB)\n",
            "  Using cached tqdm-4.62.1-py2.py3-none-any.whl (76 kB)\n",
            "INFO: pip is looking at multiple versions of tqdm to determine which version is compatible with other requirements. This could take a while.\n",
            "  Using cached tqdm-4.62.0-py2.py3-none-any.whl (76 kB)\n",
            "  Using cached tqdm-4.61.2-py2.py3-none-any.whl (76 kB)\n",
            "  Using cached tqdm-4.61.1-py2.py3-none-any.whl (75 kB)\n",
            "  Using cached tqdm-4.61.0-py2.py3-none-any.whl (75 kB)\n",
            "  Using cached tqdm-4.60.0-py2.py3-none-any.whl (75 kB)\n",
            "INFO: This is taking longer than usual. You might need to provide the dependency resolver with stricter constraints to reduce runtime. If you want to abort this run, you can press Ctrl + C to do so. To improve how pip performs, tell us what happened here: https://pip.pypa.io/surveys/backtracking\n",
            "  Using cached tqdm-4.59.0-py2.py3-none-any.whl (74 kB)\n",
            "  Using cached tqdm-4.58.0-py2.py3-none-any.whl (73 kB)\n",
            "  Using cached tqdm-4.57.0-py2.py3-none-any.whl (72 kB)\n",
            "  Using cached tqdm-4.56.2-py2.py3-none-any.whl (72 kB)\n",
            "  Using cached tqdm-4.56.1-py2.py3-none-any.whl (72 kB)\n",
            "  Using cached tqdm-4.56.0-py2.py3-none-any.whl (72 kB)\n",
            "  Using cached tqdm-4.55.2-py2.py3-none-any.whl (68 kB)\n",
            "  Using cached tqdm-4.55.1-py2.py3-none-any.whl (68 kB)\n",
            "  Using cached tqdm-4.55.0-py2.py3-none-any.whl (68 kB)\n",
            "  Using cached tqdm-4.54.1-py2.py3-none-any.whl (69 kB)\n",
            "  Using cached tqdm-4.54.0-py2.py3-none-any.whl (69 kB)\n",
            "  Using cached tqdm-4.53.0-py2.py3-none-any.whl (70 kB)\n",
            "  Using cached tqdm-4.52.0-py2.py3-none-any.whl (71 kB)\n",
            "  Using cached tqdm-4.51.0-py2.py3-none-any.whl (70 kB)\n",
            "  Using cached tqdm-4.50.2-py2.py3-none-any.whl (70 kB)\n",
            "  Using cached tqdm-4.50.1-py2.py3-none-any.whl (70 kB)\n",
            "  Using cached tqdm-4.50.0-py2.py3-none-any.whl (70 kB)\n",
            "  Using cached tqdm-4.49.0-py2.py3-none-any.whl (69 kB)\n",
            "  Using cached tqdm-4.48.2-py2.py3-none-any.whl (68 kB)\n",
            "  Using cached tqdm-4.48.1-py2.py3-none-any.whl (68 kB)\n",
            "  Using cached tqdm-4.48.0-py2.py3-none-any.whl (67 kB)\n",
            "  Using cached tqdm-4.47.0-py2.py3-none-any.whl (66 kB)\n",
            "INFO: pip is looking at multiple versions of <Python from Requires-Python> to determine which version is compatible with other requirements. This could take a while.\n",
            "INFO: pip is looking at multiple versions of simpletransformers to determine which version is compatible with other requirements. This could take a while.\n",
            "Collecting simpletransformers\n",
            "  Using cached simpletransformers-0.63.4-py3-none-any.whl (248 kB)\n",
            "  Using cached simpletransformers-0.63.3-py3-none-any.whl (247 kB)\n",
            "  Using cached simpletransformers-0.63.2-py3-none-any.whl (247 kB)\n",
            "  Using cached simpletransformers-0.63.1-py3-none-any.whl (247 kB)\n",
            "  Using cached simpletransformers-0.63.0-py3-none-any.whl (247 kB)\n",
            "  Using cached simpletransformers-0.62.4-py3-none-any.whl (231 kB)\n",
            "  Using cached simpletransformers-0.62.2-py3-none-any.whl (231 kB)\n",
            "INFO: pip is looking at multiple versions of <Python from Requires-Python> to determine which version is compatible with other requirements. This could take a while.\n",
            "INFO: pip is looking at multiple versions of simpletransformers to determine which version is compatible with other requirements. This could take a while.\n",
            "  Using cached simpletransformers-0.62.1-py3-none-any.whl (231 kB)\n",
            "  Using cached simpletransformers-0.62.0-py3-none-any.whl (230 kB)\n",
            "Requirement already satisfied: tensorboardx in /usr/local/lib/python3.7/dist-packages (from simpletransformers) (2.5)\n",
            "Requirement already satisfied: transformers>=4.2.0 in /usr/local/lib/python3.7/dist-packages (from simpletransformers) (4.2.2)\n",
            "Requirement already satisfied: importlib-metadata in /usr/local/lib/python3.7/dist-packages (from transformers>=4.2.0->simpletransformers) (4.11.3)\n",
            "Requirement already satisfied: filelock in /usr/local/lib/python3.7/dist-packages (from transformers>=4.2.0->simpletransformers) (3.7.0)\n",
            "Requirement already satisfied: promise<3,>=2.0 in /usr/local/lib/python3.7/dist-packages (from wandb>=0.10.32->simpletransformers) (2.3)\n",
            "Requirement already satisfied: setuptools in /usr/local/lib/python3.7/dist-packages (from wandb>=0.10.32->simpletransformers) (57.4.0)\n",
            "Requirement already satisfied: protobuf>=3.12.0 in /usr/local/lib/python3.7/dist-packages (from wandb>=0.10.32->simpletransformers) (3.17.3)\n",
            "Requirement already satisfied: pathtools in /usr/local/lib/python3.7/dist-packages (from wandb>=0.10.32->simpletransformers) (0.1.2)\n",
            "Requirement already satisfied: sentry-sdk>=1.0.0 in /usr/local/lib/python3.7/dist-packages (from wandb>=0.10.32->simpletransformers) (1.5.12)\n",
            "Requirement already satisfied: PyYAML in /usr/local/lib/python3.7/dist-packages (from wandb>=0.10.32->simpletransformers) (6.0)\n",
            "Requirement already satisfied: six>=1.13.0 in /usr/local/lib/python3.7/dist-packages (from wandb>=0.10.32->simpletransformers) (1.15.0)\n",
            "Requirement already satisfied: shortuuid>=0.5.0 in /usr/local/lib/python3.7/dist-packages (from wandb>=0.10.32->simpletransformers) (1.0.9)\n",
            "Requirement already satisfied: docker-pycreds>=0.4.0 in /usr/local/lib/python3.7/dist-packages (from wandb>=0.10.32->simpletransformers) (0.4.0)\n",
            "Requirement already satisfied: python-dateutil>=2.6.1 in /usr/local/lib/python3.7/dist-packages (from wandb>=0.10.32->simpletransformers) (2.8.2)\n",
            "Requirement already satisfied: psutil>=5.0.0 in /usr/local/lib/python3.7/dist-packages (from wandb>=0.10.32->simpletransformers) (5.4.8)\n",
            "Requirement already satisfied: GitPython>=1.0.0 in /usr/local/lib/python3.7/dist-packages (from wandb>=0.10.32->simpletransformers) (3.1.27)\n",
            "Requirement already satisfied: setproctitle in /usr/local/lib/python3.7/dist-packages (from wandb>=0.10.32->simpletransformers) (1.2.3)\n",
            "Requirement already satisfied: Click!=8.0.0,>=7.0 in /usr/local/lib/python3.7/dist-packages (from wandb>=0.10.32->simpletransformers) (7.1.2)\n",
            "Requirement already satisfied: typing-extensions>=3.7.4.3 in /usr/local/lib/python3.7/dist-packages (from GitPython>=1.0.0->wandb>=0.10.32->simpletransformers) (4.2.0)\n",
            "Requirement already satisfied: gitdb<5,>=4.0.1 in /usr/local/lib/python3.7/dist-packages (from GitPython>=1.0.0->wandb>=0.10.32->simpletransformers) (4.0.9)\n",
            "Requirement already satisfied: smmap<6,>=3.0.1 in /usr/local/lib/python3.7/dist-packages (from gitdb<5,>=4.0.1->GitPython>=1.0.0->wandb>=0.10.32->simpletransformers) (5.0.0)\n",
            "Requirement already satisfied: chardet<4,>=3.0.2 in /usr/local/lib/python3.7/dist-packages (from requests->simpletransformers) (3.0.4)\n",
            "Requirement already satisfied: urllib3!=1.25.0,!=1.25.1,<1.26,>=1.21.1 in /usr/local/lib/python3.7/dist-packages (from requests->simpletransformers) (1.25.11)\n",
            "Requirement already satisfied: idna<3,>=2.5 in /usr/local/lib/python3.7/dist-packages (from requests->simpletransformers) (2.10)\n",
            "Requirement already satisfied: certifi>=2017.4.17 in /usr/local/lib/python3.7/dist-packages (from requests->simpletransformers) (2021.10.8)\n",
            "Requirement already satisfied: fsspec[http]>=2021.05.0 in /usr/local/lib/python3.7/dist-packages (from datasets->simpletransformers) (2022.5.0)\n",
            "Requirement already satisfied: aiohttp in /usr/local/lib/python3.7/dist-packages (from datasets->simpletransformers) (3.8.1)\n",
            "Requirement already satisfied: multiprocess in /usr/local/lib/python3.7/dist-packages (from datasets->simpletransformers) (0.70.12.2)\n",
            "Requirement already satisfied: xxhash in /usr/local/lib/python3.7/dist-packages (from datasets->simpletransformers) (3.0.0)\n",
            "Requirement already satisfied: dill<0.3.5 in /usr/local/lib/python3.7/dist-packages (from datasets->simpletransformers) (0.3.4)\n",
            "Requirement already satisfied: pyarrow>=6.0.0 in /usr/local/lib/python3.7/dist-packages (from datasets->simpletransformers) (6.0.1)\n",
            "Requirement already satisfied: responses<0.19 in /usr/local/lib/python3.7/dist-packages (from datasets->simpletransformers) (0.18.0)\n",
            "Requirement already satisfied: pyparsing!=3.0.5,>=2.0.2 in /usr/local/lib/python3.7/dist-packages (from packaging>=20.0->transformers>=4.6.0->simpletransformers) (3.0.9)\n",
            "Requirement already satisfied: asynctest==0.13.0 in /usr/local/lib/python3.7/dist-packages (from aiohttp->datasets->simpletransformers) (0.13.0)\n",
            "Requirement already satisfied: yarl<2.0,>=1.0 in /usr/local/lib/python3.7/dist-packages (from aiohttp->datasets->simpletransformers) (1.7.2)\n",
            "Requirement already satisfied: charset-normalizer<3.0,>=2.0 in /usr/local/lib/python3.7/dist-packages (from aiohttp->datasets->simpletransformers) (2.0.12)\n",
            "Requirement already satisfied: async-timeout<5.0,>=4.0.0a3 in /usr/local/lib/python3.7/dist-packages (from aiohttp->datasets->simpletransformers) (4.0.2)\n",
            "Requirement already satisfied: aiosignal>=1.1.2 in /usr/local/lib/python3.7/dist-packages (from aiohttp->datasets->simpletransformers) (1.2.0)\n",
            "Requirement already satisfied: attrs>=17.3.0 in /usr/local/lib/python3.7/dist-packages (from aiohttp->datasets->simpletransformers) (21.4.0)\n",
            "Requirement already satisfied: frozenlist>=1.1.1 in /usr/local/lib/python3.7/dist-packages (from aiohttp->datasets->simpletransformers) (1.3.0)\n",
            "Requirement already satisfied: multidict<7.0,>=4.5 in /usr/local/lib/python3.7/dist-packages (from aiohttp->datasets->simpletransformers) (6.0.2)\n",
            "Requirement already satisfied: zipp>=0.5 in /usr/local/lib/python3.7/dist-packages (from importlib-metadata->transformers>=4.2.0->simpletransformers) (3.8.0)\n",
            "Requirement already satisfied: pytz>=2017.3 in /usr/local/lib/python3.7/dist-packages (from pandas->simpletransformers) (2022.1)\n",
            "Requirement already satisfied: joblib in /usr/local/lib/python3.7/dist-packages (from sacremoses->transformers>=4.6.0->simpletransformers) (1.1.0)\n",
            "Requirement already satisfied: threadpoolctl>=2.0.0 in /usr/local/lib/python3.7/dist-packages (from scikit-learn->simpletransformers) (3.1.0)\n",
            "Requirement already satisfied: semver in /usr/local/lib/python3.7/dist-packages (from streamlit->simpletransformers) (2.13.0)\n",
            "Requirement already satisfied: toml in /usr/local/lib/python3.7/dist-packages (from streamlit->simpletransformers) (0.10.2)\n",
            "Requirement already satisfied: altair>=3.2.0 in /usr/local/lib/python3.7/dist-packages (from streamlit->simpletransformers) (4.2.0)\n",
            "Requirement already satisfied: pympler>=0.9 in /usr/local/lib/python3.7/dist-packages (from streamlit->simpletransformers) (1.0.1)\n",
            "Requirement already satisfied: tzlocal in /usr/local/lib/python3.7/dist-packages (from streamlit->simpletransformers) (1.5.1)\n",
            "Requirement already satisfied: tornado>=5.0 in /usr/local/lib/python3.7/dist-packages (from streamlit->simpletransformers) (6.1)\n",
            "Requirement already satisfied: blinker in /usr/local/lib/python3.7/dist-packages (from streamlit->simpletransformers) (1.4)\n",
            "Requirement already satisfied: pydeck>=0.1.dev5 in /usr/local/lib/python3.7/dist-packages (from streamlit->simpletransformers) (0.7.1)\n",
            "Requirement already satisfied: cachetools>=4.0 in /usr/local/lib/python3.7/dist-packages (from streamlit->simpletransformers) (4.2.4)\n",
            "Requirement already satisfied: watchdog in /usr/local/lib/python3.7/dist-packages (from streamlit->simpletransformers) (2.1.8)\n",
            "Requirement already satisfied: validators in /usr/local/lib/python3.7/dist-packages (from streamlit->simpletransformers) (0.19.0)\n",
            "Requirement already satisfied: pillow>=6.2.0 in /usr/local/lib/python3.7/dist-packages (from streamlit->simpletransformers) (7.1.2)\n",
            "Requirement already satisfied: jinja2 in /usr/local/lib/python3.7/dist-packages (from altair>=3.2.0->streamlit->simpletransformers) (2.11.3)\n",
            "Requirement already satisfied: jsonschema>=3.0 in /usr/local/lib/python3.7/dist-packages (from altair>=3.2.0->streamlit->simpletransformers) (4.3.3)\n",
            "Requirement already satisfied: toolz in /usr/local/lib/python3.7/dist-packages (from altair>=3.2.0->streamlit->simpletransformers) (0.11.2)\n",
            "Requirement already satisfied: entrypoints in /usr/local/lib/python3.7/dist-packages (from altair>=3.2.0->streamlit->simpletransformers) (0.4)\n",
            "Requirement already satisfied: importlib-resources>=1.4.0 in /usr/local/lib/python3.7/dist-packages (from jsonschema>=3.0->altair>=3.2.0->streamlit->simpletransformers) (5.7.1)\n",
            "Requirement already satisfied: pyrsistent!=0.17.0,!=0.17.1,!=0.17.2,>=0.14.0 in /usr/local/lib/python3.7/dist-packages (from jsonschema>=3.0->altair>=3.2.0->streamlit->simpletransformers) (0.18.1)\n",
            "Requirement already satisfied: traitlets>=4.3.2 in /usr/local/lib/python3.7/dist-packages (from pydeck>=0.1.dev5->streamlit->simpletransformers) (5.1.1)\n",
            "Requirement already satisfied: ipykernel>=5.1.2 in /usr/local/lib/python3.7/dist-packages (from pydeck>=0.1.dev5->streamlit->simpletransformers) (6.13.0)\n",
            "Requirement already satisfied: ipywidgets>=7.0.0 in /usr/local/lib/python3.7/dist-packages (from pydeck>=0.1.dev5->streamlit->simpletransformers) (7.7.0)\n",
            "Requirement already satisfied: debugpy>=1.0 in /usr/local/lib/python3.7/dist-packages (from ipykernel>=5.1.2->pydeck>=0.1.dev5->streamlit->simpletransformers) (1.0.0)\n",
            "Requirement already satisfied: nest-asyncio in /usr/local/lib/python3.7/dist-packages (from ipykernel>=5.1.2->pydeck>=0.1.dev5->streamlit->simpletransformers) (1.5.5)\n",
            "Requirement already satisfied: jupyter-client>=6.1.12 in /usr/local/lib/python3.7/dist-packages (from ipykernel>=5.1.2->pydeck>=0.1.dev5->streamlit->simpletransformers) (7.3.1)\n",
            "Requirement already satisfied: ipython>=7.23.1 in /usr/local/lib/python3.7/dist-packages (from ipykernel>=5.1.2->pydeck>=0.1.dev5->streamlit->simpletransformers) (7.33.0)\n",
            "Requirement already satisfied: matplotlib-inline>=0.1 in /usr/local/lib/python3.7/dist-packages (from ipykernel>=5.1.2->pydeck>=0.1.dev5->streamlit->simpletransformers) (0.1.3)\n",
            "Requirement already satisfied: prompt-toolkit!=3.0.0,!=3.0.1,<3.1.0,>=2.0.0 in /usr/local/lib/python3.7/dist-packages (from ipython>=7.23.1->ipykernel>=5.1.2->pydeck>=0.1.dev5->streamlit->simpletransformers) (3.0.29)\n",
            "Requirement already satisfied: decorator in /usr/local/lib/python3.7/dist-packages (from ipython>=7.23.1->ipykernel>=5.1.2->pydeck>=0.1.dev5->streamlit->simpletransformers) (4.4.2)\n",
            "Requirement already satisfied: jedi>=0.16 in /usr/local/lib/python3.7/dist-packages (from ipython>=7.23.1->ipykernel>=5.1.2->pydeck>=0.1.dev5->streamlit->simpletransformers) (0.18.1)\n",
            "Requirement already satisfied: pygments in /usr/local/lib/python3.7/dist-packages (from ipython>=7.23.1->ipykernel>=5.1.2->pydeck>=0.1.dev5->streamlit->simpletransformers) (2.6.1)\n",
            "Requirement already satisfied: backcall in /usr/local/lib/python3.7/dist-packages (from ipython>=7.23.1->ipykernel>=5.1.2->pydeck>=0.1.dev5->streamlit->simpletransformers) (0.2.0)\n",
            "Requirement already satisfied: pexpect>4.3 in /usr/local/lib/python3.7/dist-packages (from ipython>=7.23.1->ipykernel>=5.1.2->pydeck>=0.1.dev5->streamlit->simpletransformers) (4.8.0)\n",
            "Requirement already satisfied: pickleshare in /usr/local/lib/python3.7/dist-packages (from ipython>=7.23.1->ipykernel>=5.1.2->pydeck>=0.1.dev5->streamlit->simpletransformers) (0.7.5)\n",
            "Requirement already satisfied: widgetsnbextension~=3.6.0 in /usr/local/lib/python3.7/dist-packages (from ipywidgets>=7.0.0->pydeck>=0.1.dev5->streamlit->simpletransformers) (3.6.0)\n",
            "Requirement already satisfied: nbformat>=4.2.0 in /usr/local/lib/python3.7/dist-packages (from ipywidgets>=7.0.0->pydeck>=0.1.dev5->streamlit->simpletransformers) (5.4.0)\n",
            "Requirement already satisfied: jupyterlab-widgets>=1.0.0 in /usr/local/lib/python3.7/dist-packages (from ipywidgets>=7.0.0->pydeck>=0.1.dev5->streamlit->simpletransformers) (1.1.0)\n",
            "Requirement already satisfied: ipython-genutils~=0.2.0 in /usr/local/lib/python3.7/dist-packages (from ipywidgets>=7.0.0->pydeck>=0.1.dev5->streamlit->simpletransformers) (0.2.0)\n",
            "Requirement already satisfied: parso<0.9.0,>=0.8.0 in /usr/local/lib/python3.7/dist-packages (from jedi>=0.16->ipython>=7.23.1->ipykernel>=5.1.2->pydeck>=0.1.dev5->streamlit->simpletransformers) (0.8.3)\n",
            "Requirement already satisfied: MarkupSafe>=0.23 in /usr/local/lib/python3.7/dist-packages (from jinja2->altair>=3.2.0->streamlit->simpletransformers) (2.0.1)\n",
            "Requirement already satisfied: jupyter-core>=4.9.2 in /usr/local/lib/python3.7/dist-packages (from jupyter-client>=6.1.12->ipykernel>=5.1.2->pydeck>=0.1.dev5->streamlit->simpletransformers) (4.10.0)\n",
            "Requirement already satisfied: pyzmq>=22.3 in /usr/local/lib/python3.7/dist-packages (from jupyter-client>=6.1.12->ipykernel>=5.1.2->pydeck>=0.1.dev5->streamlit->simpletransformers) (22.3.0)\n",
            "Requirement already satisfied: fastjsonschema in /usr/local/lib/python3.7/dist-packages (from nbformat>=4.2.0->ipywidgets>=7.0.0->pydeck>=0.1.dev5->streamlit->simpletransformers) (2.15.3)\n",
            "Requirement already satisfied: ptyprocess>=0.5 in /usr/local/lib/python3.7/dist-packages (from pexpect>4.3->ipython>=7.23.1->ipykernel>=5.1.2->pydeck>=0.1.dev5->streamlit->simpletransformers) (0.7.0)\n",
            "Requirement already satisfied: wcwidth in /usr/local/lib/python3.7/dist-packages (from prompt-toolkit!=3.0.0,!=3.0.1,<3.1.0,>=2.0.0->ipython>=7.23.1->ipykernel>=5.1.2->pydeck>=0.1.dev5->streamlit->simpletransformers) (0.2.5)\n",
            "Requirement already satisfied: notebook>=4.4.1 in /usr/local/lib/python3.7/dist-packages (from widgetsnbextension~=3.6.0->ipywidgets>=7.0.0->pydeck>=0.1.dev5->streamlit->simpletransformers) (5.3.1)\n",
            "Requirement already satisfied: nbconvert in /usr/local/lib/python3.7/dist-packages (from notebook>=4.4.1->widgetsnbextension~=3.6.0->ipywidgets>=7.0.0->pydeck>=0.1.dev5->streamlit->simpletransformers) (5.6.1)\n",
            "Requirement already satisfied: terminado>=0.8.1 in /usr/local/lib/python3.7/dist-packages (from notebook>=4.4.1->widgetsnbextension~=3.6.0->ipywidgets>=7.0.0->pydeck>=0.1.dev5->streamlit->simpletransformers) (0.13.3)\n",
            "Requirement already satisfied: Send2Trash in /usr/local/lib/python3.7/dist-packages (from notebook>=4.4.1->widgetsnbextension~=3.6.0->ipywidgets>=7.0.0->pydeck>=0.1.dev5->streamlit->simpletransformers) (1.8.0)\n",
            "Requirement already satisfied: bleach in /usr/local/lib/python3.7/dist-packages (from nbconvert->notebook>=4.4.1->widgetsnbextension~=3.6.0->ipywidgets>=7.0.0->pydeck>=0.1.dev5->streamlit->simpletransformers) (5.0.0)\n",
            "Requirement already satisfied: pandocfilters>=1.4.1 in /usr/local/lib/python3.7/dist-packages (from nbconvert->notebook>=4.4.1->widgetsnbextension~=3.6.0->ipywidgets>=7.0.0->pydeck>=0.1.dev5->streamlit->simpletransformers) (1.5.0)\n",
            "Requirement already satisfied: testpath in /usr/local/lib/python3.7/dist-packages (from nbconvert->notebook>=4.4.1->widgetsnbextension~=3.6.0->ipywidgets>=7.0.0->pydeck>=0.1.dev5->streamlit->simpletransformers) (0.6.0)\n",
            "Requirement already satisfied: defusedxml in /usr/local/lib/python3.7/dist-packages (from nbconvert->notebook>=4.4.1->widgetsnbextension~=3.6.0->ipywidgets>=7.0.0->pydeck>=0.1.dev5->streamlit->simpletransformers) (0.7.1)\n",
            "Requirement already satisfied: mistune<2,>=0.8.1 in /usr/local/lib/python3.7/dist-packages (from nbconvert->notebook>=4.4.1->widgetsnbextension~=3.6.0->ipywidgets>=7.0.0->pydeck>=0.1.dev5->streamlit->simpletransformers) (0.8.4)\n",
            "Requirement already satisfied: webencodings in /usr/local/lib/python3.7/dist-packages (from bleach->nbconvert->notebook>=4.4.1->widgetsnbextension~=3.6.0->ipywidgets>=7.0.0->pydeck>=0.1.dev5->streamlit->simpletransformers) (0.5.1)\n",
            "\u001b[31mERROR: Could not open requirements file: [Errno 2] No such file or directory: 'pytorch'\u001b[0m\n"
          ]
        }
      ]
    },
    {
      "cell_type": "code",
      "metadata": {
        "id": "KVsnF3EITnZ8",
        "colab": {
          "base_uri": "https://localhost:8080/"
        },
        "outputId": "7c192277-d0a3-4b5d-ab8e-86db0b31d6b3"
      },
      "source": [
        "! head -n 5 HHShkMohd_tweets.csv"
      ],
      "execution_count": 15,
      "outputs": [
        {
          "output_type": "stream",
          "name": "stdout",
          "text": [
            "﻿\"أثناء جولتي اليوم في سوق السفر العربي ٢٠٢٢ … والذي تشارك فيه ١٥٠٠ جهة من ١٥٨ دولة .. المعارض تعود .. السياحة تتعافى.. العقار يصعد .. الاستثمار يتسارع .. التصدير يصل لمستويات جديدة .. \n",
            "الحياة تعود لدبي بحمد الله.. ودبي تقود عودة الحياة للعالم .. https://t.co/rMce14PEt3\"\r\n",
            "مجلس دبي هدفه قيادة المشاريع التحولية بالإمارة .. وقراراتنا اليوم كبيرة .. ومهمة .. ومستقبلية وتحمل الخير لمواطنينا .. واعتمادي بعد الله على حمدان ومكتوم في متابعة كافة هذه التحولات الجديدة التي سترسم مستقبلاً أفضل وأجمل لأجيالنا القادمة بإذن الله .. https://t.co/aOAd16lWs7\r\n",
            "وتم اليوم توقيع اتفاقيات أداء مدراء مسار البنية التحتية مع مفوض البنية التحتية .. وهم بلدية دبي ودائرة الأراضي وبرنامج الإسكان … لديهم مهام كبيرة .. وتغييرات إيجابية سريعة .. ونعول عليهم لإنجاز طموحاتنا خلال الفترة المقبلة .. https://t.co/hXKjlbts9E\r\n",
            "كما كلفنا مفوض البنية التحتية الأخ مطر الطاير بوضع خطة متكاملة لتطوير أرياف وبراري دبي مثل الهباب واللسيلي والفقع والمرموم وغيرها.. وتحويلها لمناطق تنموية ووجهات سياحية وثقافية بارزة.. والارتقاء بمستوى خدماتها .. وإشراك أبناءها للاستفادة من الفرص الاقتصادية التي ستوفرها. https://t.co/1YJWDeOQOp\r\n"
          ]
        }
      ]
    },
    {
      "cell_type": "code",
      "source": [
        "import pandas as pd\n",
        "import numpy as np\n",
        "import matplotlib.pyplot as plt\n",
        "import string\n",
        "import re\n",
        "import nltk\n",
        "from nltk.corpus import stopwords\n",
        "from sklearn.model_selection import train_test_split, GridSearchCV\n",
        "from sklearn.feature_extraction.text import TfidfVectorizer\n",
        "from sklearn.pipeline import make_pipeline\n",
        "from sklearn.linear_model import LogisticRegression\n",
        "from sklearn.ensemble import RandomForestClassifier\n",
        "from sklearn.naive_bayes import MultinomialNB\n",
        "from sklearn.svm import SVC\n",
        "from sklearn.metrics import confusion_matrix,accuracy_score, classification_report\n",
        "\n",
        "data = pd.read_csv(r\"HHShkMohd_tweets.csv\")\n",
        "print(data.head())\n",
        "print(data.sample(5))"
      ],
      "metadata": {
        "colab": {
          "base_uri": "https://localhost:8080/"
        },
        "id": "VD-RKvTtzQRl",
        "outputId": "152b193a-4016-496d-c247-269f796b506b"
      },
      "execution_count": 19,
      "outputs": [
        {
          "output_type": "stream",
          "name": "stdout",
          "text": [
            "  أثناء جولتي اليوم في سوق السفر العربي ٢٠٢٢ … والذي تشارك فيه ١٥٠٠ جهة من ١٥٨ دولة .. المعارض تعود .. السياحة تتعافى.. العقار يصعد .. الاستثمار يتسارع .. التصدير يصل لمستويات جديدة .. \\nالحياة تعود لدبي بحمد الله.. ودبي تقود عودة الحياة للعالم .. https://t.co/rMce14PEt3\n",
            "0  مجلس دبي هدفه قيادة المشاريع التحولية بالإمارة...                                                                                                                                                                                                                           \n",
            "1  وتم اليوم توقيع اتفاقيات أداء مدراء مسار البني...                                                                                                                                                                                                                           \n",
            "2  كما كلفنا مفوض البنية التحتية الأخ مطر الطاير ...                                                                                                                                                                                                                           \n",
            "3  واعتمدنا في اجتماع مجلس دبي رؤية جديدة للأحياء...                                                                                                                                                                                                                           \n",
            "4  كما أقررنا خلال الاجتماع إنشاء لجنة برئاسة حمد...                                                                                                                                                                                                                           \n",
            "     أثناء جولتي اليوم في سوق السفر العربي ٢٠٢٢ … والذي تشارك فيه ١٥٠٠ جهة من ١٥٨ دولة .. المعارض تعود .. السياحة تتعافى.. العقار يصعد .. الاستثمار يتسارع .. التصدير يصل لمستويات جديدة .. \\nالحياة تعود لدبي بحمد الله.. ودبي تقود عودة الحياة للعالم .. https://t.co/rMce14PEt3\n",
            "1121  مشروع \"مدرسة\" هو مساهمة في تحسين واقع التعليم ...                                                                                                                                                                                                                           \n",
            "546   أثناء تلقي لقاح فيروس كورونا.. نسأل الله أن يح...                                                                                                                                                                                                                           \n",
            "545   يرتفع علمنا، فيرتفع فخرنا .. ترفرف راياتنا، وم...                                                                                                                                                                                                                           \n",
            "2013  وستعمل شرطة دبي في مسرعتها على استحداث أنظمة ت...                                                                                                                                                                                                                           \n",
            "1037  في عاصمة الجبال .. وعاصمة التاريخ والآثار .. ف...                                                                                                                                                                                                                           \n"
          ]
        }
      ]
    },
    {
      "cell_type": "code",
      "source": [
        "punctuations = '''`÷×؛<>_()*&^%][ـ،/:\"؟.,'{}~¦+|!”…“–ـ''' + string.punctuation\n",
        "\n",
        "nltk.download('stopwords')\n",
        "stop_words = stopwords.words()\n",
        "\n",
        "arabic_diacritics = re.compile(\"\"\"\n",
        "                             ّ    | # Shadda\n",
        "                             َ    | # Fatha\n",
        "                             ً    | # Tanwin Fath\n",
        "                             ُ    | # Damma\n",
        "                             ٌ    | # Tanwin Damm\n",
        "                             ِ    | # Kasra\n",
        "                             ٍ    | # Tanwin Kasr\n",
        "                             ْ    | # Sukun\n",
        "                             ـ     # Tatwil/Kashida\n",
        "                         \"\"\", re.VERBOSE)\n",
        "\n",
        "def preprocess(text):\n",
        "    \n",
        "    #remove punctuations\n",
        "    translator = str.maketrans('', '', punctuations)\n",
        "    text = text.translate(translator)\n",
        "    \n",
        "    #remove Tashkeel\n",
        "    text = re.sub(arabic_diacritics, '', text)\n",
        "    \n",
        "    #remove longation\n",
        "    text = re.sub(\"[إأآا]\", \"ا\", text)\n",
        "    text = re.sub(\"ى\", \"ي\", text)\n",
        "    text = re.sub(\"ؤ\", \"ء\", text)\n",
        "    text = re.sub(\"ئ\", \"ء\", text)\n",
        "    text = re.sub(\"ة\", \"ه\", text)\n",
        "    text = re.sub(\"گ\", \"ك\", text)\n",
        "\n",
        "    #remove URL\n",
        "    text = re.sub(r\"http\\S+\", \"\", text)\n",
        "\n",
        "    #remove mentions and hashtags\n",
        "    mentions = re.findall(\"@([a-zA-Z0-9_]{1,50})\", text)\n",
        "    hashtags = re.findall(\"#([a-zA-Z0-9_]{1,50})\", text)\n",
        "    text = re.sub(\"@[A-Za-z0-9_]+\",\"\", text)\n",
        "    text = re.sub(\"#[A-Za-z0-9_]+\",\"\", text)\n",
        "\n",
        "    text = ' '.join(word for word in text.split() if word not in stop_words)\n",
        "\n",
        "    return text\n",
        "    \n",
        "    data['Feed'] = data['Feed'].apply(preprocess)"
      ],
      "metadata": {
        "colab": {
          "base_uri": "https://localhost:8080/"
        },
        "id": "qzoUKqxLz84B",
        "outputId": "70bc10ce-5cb2-452b-c105-1b8673ffe771"
      },
      "execution_count": 25,
      "outputs": [
        {
          "output_type": "stream",
          "name": "stdout",
          "text": [
            "[nltk_data] Downloading package stopwords to /root/nltk_data...\n",
            "[nltk_data]   Package stopwords is already up-to-date!\n"
          ]
        }
      ]
    },
    {
      "cell_type": "code",
      "source": [
        "print(data.head(5))"
      ],
      "metadata": {
        "colab": {
          "base_uri": "https://localhost:8080/"
        },
        "id": "0npyrLQF0ygm",
        "outputId": "90cf21de-769e-4a2c-c3aa-c98ee90947fa"
      },
      "execution_count": 28,
      "outputs": [
        {
          "output_type": "stream",
          "name": "stdout",
          "text": [
            "  أثناء جولتي اليوم في سوق السفر العربي ٢٠٢٢ … والذي تشارك فيه ١٥٠٠ جهة من ١٥٨ دولة .. المعارض تعود .. السياحة تتعافى.. العقار يصعد .. الاستثمار يتسارع .. التصدير يصل لمستويات جديدة .. \\nالحياة تعود لدبي بحمد الله.. ودبي تقود عودة الحياة للعالم .. https://t.co/rMce14PEt3\n",
            "0  مجلس دبي هدفه قيادة المشاريع التحولية بالإمارة...                                                                                                                                                                                                                           \n",
            "1  وتم اليوم توقيع اتفاقيات أداء مدراء مسار البني...                                                                                                                                                                                                                           \n",
            "2  كما كلفنا مفوض البنية التحتية الأخ مطر الطاير ...                                                                                                                                                                                                                           \n",
            "3  واعتمدنا في اجتماع مجلس دبي رؤية جديدة للأحياء...                                                                                                                                                                                                                           \n",
            "4  كما أقررنا خلال الاجتماع إنشاء لجنة برئاسة حمد...                                                                                                                                                                                                                           \n"
          ]
        }
      ]
    },
    {
      "cell_type": "code",
      "source": [
        "import csv\n",
        "import random\n",
        "\n",
        "train = []\n",
        "test = []\n",
        "eval = []\n",
        "\n",
        "users = {\n",
        "    'HH', '[HHShkMohd] '\n",
        "}\n",
        "\n",
        "for users in [['HH', '[HHShkMohd] ']]:\n",
        "  f = open(r\"HHShkMohd_tweets.csv\", \"r\")\n",
        "   \n",
        "  rdr = csv.reader(f, delimiter='\\t')\n",
        "  lines = 0\n",
        "  for line in rdr:\n",
        "      lines += 1\n",
        "      if line == 1:\n",
        "        continue\n",
        "      if len(line) == 1:\n",
        "        if random.random() > 0.4:\n",
        "          train.append(arabert_prep.preprocess(line[0])  + '<|endoftext|>')\n",
        "        elif random.random() > 0.2:\n",
        "          test.append(arabert_prep.preprocess(line[0])  + '<|endoftext|>')\n",
        "        else:\n",
        "          eval.append(arabert_prep.preprocess(line[0])  + '<|endoftext|>')"
      ],
      "metadata": {
        "id": "KVLwrZ8L1RO1"
      },
      "execution_count": 29,
      "outputs": []
    },
    {
      "cell_type": "code",
      "source": [
        "train[-1]"
      ],
      "metadata": {
        "colab": {
          "base_uri": "https://localhost:8080/",
          "height": 35
        },
        "id": "J7JJOedz6nyL",
        "outputId": "6f95f7fd-7036-4b08-9127-ee2d6292766b"
      },
      "execution_count": 30,
      "outputs": [
        {
          "output_type": "execute_result",
          "data": {
            "text/plain": [
              "'العشرية القادمة هي عشرية الانطلاق بكل ثقة للمستقبل بكل تغيراته وتحدياته وتنافسيته . # القمة _ العالمية _ للحكومات<|endoftext|>'"
            ],
            "application/vnd.google.colaboratory.intrinsic+json": {
              "type": "string"
            }
          },
          "metadata": {},
          "execution_count": 30
        }
      ]
    },
    {
      "cell_type": "code",
      "source": [
        "open('./train.txt', 'w').write(\"\\n\".join(train))\n",
        "open('./test.txt', 'w').write(\"\\n\".join(test))\n",
        "open('./eval.txt', 'w').write(\"\\n\".join(test))\n",
        "len(train)"
      ],
      "metadata": {
        "colab": {
          "base_uri": "https://localhost:8080/"
        },
        "id": "4I0nIvXO62ON",
        "outputId": "89b33252-e2d5-4d38-9cea-dc932a2294ba"
      },
      "execution_count": 31,
      "outputs": [
        {
          "output_type": "execute_result",
          "data": {
            "text/plain": [
              "1420"
            ]
          },
          "metadata": {},
          "execution_count": 31
        }
      ]
    },
    {
      "cell_type": "code",
      "source": [
        "from simpletransformers.language_modeling import LanguageModelingModel, LanguageModelingArgs\n",
        "\n",
        "train_args = {\n",
        "    \"reprocess_input_data\": True,\n",
        "    \"overwrite_output_dir\": True,\n",
        "    \"train_batch_size\": 8,\n",
        "    \"num_train_epochs\": 10,\n",
        "    \"fp16\": False,\n",
        "    \"mlm\": False,\n",
        "}\n",
        "\n",
        "ft_model = LanguageModelingModel('gpt2', 'aubmindlab/aragpt2-base', args=train_args)"
      ],
      "metadata": {
        "colab": {
          "base_uri": "https://localhost:8080/",
          "height": 538
        },
        "id": "aRsI0fhs69To",
        "outputId": "3ba88d52-c977-4ddf-82a4-ccc600b8c86e"
      },
      "execution_count": 32,
      "outputs": [
        {
          "output_type": "error",
          "ename": "ImportError",
          "evalue": "ignored",
          "traceback": [
            "\u001b[0;31m---------------------------------------------------------------------------\u001b[0m",
            "\u001b[0;31mImportError\u001b[0m                               Traceback (most recent call last)",
            "\u001b[0;32m<ipython-input-32-65a9cd09b730>\u001b[0m in \u001b[0;36m<module>\u001b[0;34m()\u001b[0m\n\u001b[0;32m----> 1\u001b[0;31m \u001b[0;32mfrom\u001b[0m \u001b[0msimpletransformers\u001b[0m\u001b[0;34m.\u001b[0m\u001b[0mlanguage_modeling\u001b[0m \u001b[0;32mimport\u001b[0m \u001b[0mLanguageModelingModel\u001b[0m\u001b[0;34m,\u001b[0m \u001b[0mLanguageModelingArgs\u001b[0m\u001b[0;34m\u001b[0m\u001b[0;34m\u001b[0m\u001b[0m\n\u001b[0m\u001b[1;32m      2\u001b[0m \u001b[0;34m\u001b[0m\u001b[0m\n\u001b[1;32m      3\u001b[0m train_args = {\n\u001b[1;32m      4\u001b[0m     \u001b[0;34m\"reprocess_input_data\"\u001b[0m\u001b[0;34m:\u001b[0m \u001b[0;32mTrue\u001b[0m\u001b[0;34m,\u001b[0m\u001b[0;34m\u001b[0m\u001b[0;34m\u001b[0m\u001b[0m\n\u001b[1;32m      5\u001b[0m     \u001b[0;34m\"overwrite_output_dir\"\u001b[0m\u001b[0;34m:\u001b[0m \u001b[0;32mTrue\u001b[0m\u001b[0;34m,\u001b[0m\u001b[0;34m\u001b[0m\u001b[0;34m\u001b[0m\u001b[0m\n",
            "\u001b[0;32m/usr/local/lib/python3.7/dist-packages/simpletransformers/language_modeling/__init__.py\u001b[0m in \u001b[0;36m<module>\u001b[0;34m()\u001b[0m\n\u001b[1;32m      1\u001b[0m \u001b[0;32mfrom\u001b[0m \u001b[0msimpletransformers\u001b[0m\u001b[0;34m.\u001b[0m\u001b[0mconfig\u001b[0m\u001b[0;34m.\u001b[0m\u001b[0mmodel_args\u001b[0m \u001b[0;32mimport\u001b[0m \u001b[0mLanguageModelingArgs\u001b[0m\u001b[0;34m\u001b[0m\u001b[0;34m\u001b[0m\u001b[0m\n\u001b[0;32m----> 2\u001b[0;31m from simpletransformers.language_modeling.language_modeling_model import (\n\u001b[0m\u001b[1;32m      3\u001b[0m     \u001b[0mLanguageModelingModel\u001b[0m\u001b[0;34m,\u001b[0m\u001b[0;34m\u001b[0m\u001b[0;34m\u001b[0m\u001b[0m\n\u001b[1;32m      4\u001b[0m )\n",
            "\u001b[0;32m/usr/local/lib/python3.7/dist-packages/simpletransformers/language_modeling/language_modeling_model.py\u001b[0m in \u001b[0;36m<module>\u001b[0;34m()\u001b[0m\n\u001b[1;32m     41\u001b[0m )\n\u001b[1;32m     42\u001b[0m \u001b[0;32mfrom\u001b[0m \u001b[0mtransformers\u001b[0m\u001b[0;34m.\u001b[0m\u001b[0moptimization\u001b[0m \u001b[0;32mimport\u001b[0m \u001b[0mAdamW\u001b[0m\u001b[0;34m,\u001b[0m \u001b[0mAdafactor\u001b[0m\u001b[0;34m\u001b[0m\u001b[0;34m\u001b[0m\u001b[0m\n\u001b[0;32m---> 43\u001b[0;31m from transformers import (\n\u001b[0m\u001b[1;32m     44\u001b[0m     \u001b[0mWEIGHTS_NAME\u001b[0m\u001b[0;34m,\u001b[0m\u001b[0;34m\u001b[0m\u001b[0;34m\u001b[0m\u001b[0m\n\u001b[1;32m     45\u001b[0m     \u001b[0mAutoConfig\u001b[0m\u001b[0;34m,\u001b[0m\u001b[0;34m\u001b[0m\u001b[0;34m\u001b[0m\u001b[0m\n",
            "\u001b[0;31mImportError\u001b[0m: cannot import name 'BigBirdConfig' from 'transformers' (unknown location)",
            "",
            "\u001b[0;31m---------------------------------------------------------------------------\u001b[0;32m\nNOTE: If your import is failing due to a missing package, you can\nmanually install dependencies using either !pip or !apt.\n\nTo view examples of installing some common dependencies, click the\n\"Open Examples\" button below.\n\u001b[0;31m---------------------------------------------------------------------------\u001b[0m\n"
          ],
          "errorDetails": {
            "actions": [
              {
                "action": "open_url",
                "actionText": "Open Examples",
                "url": "/notebooks/snippets/importing_libraries.ipynb"
              }
            ]
          }
        }
      ]
    },
    {
      "cell_type": "code",
      "source": [
        "ft_model.tokenizer.add_tokens([\"[HHShkMohd]\"])\n",
        "ft_model.model.resize_token_embeddings(len(ft_model.tokenizer))"
      ],
      "metadata": {
        "colab": {
          "base_uri": "https://localhost:8080/",
          "height": 184
        },
        "id": "RobVa6o53HwE",
        "outputId": "1c4d4ca8-1396-468f-af0f-070eca2b58c2"
      },
      "execution_count": 33,
      "outputs": [
        {
          "output_type": "error",
          "ename": "NameError",
          "evalue": "ignored",
          "traceback": [
            "\u001b[0;31m---------------------------------------------------------------------------\u001b[0m",
            "\u001b[0;31mNameError\u001b[0m                                 Traceback (most recent call last)",
            "\u001b[0;32m<ipython-input-33-7da76b8145af>\u001b[0m in \u001b[0;36m<module>\u001b[0;34m()\u001b[0m\n\u001b[0;32m----> 1\u001b[0;31m \u001b[0mft_model\u001b[0m\u001b[0;34m.\u001b[0m\u001b[0mtokenizer\u001b[0m\u001b[0;34m.\u001b[0m\u001b[0madd_tokens\u001b[0m\u001b[0;34m(\u001b[0m\u001b[0;34m[\u001b[0m\u001b[0;34m\"[HHShkMohd]\"\u001b[0m\u001b[0;34m]\u001b[0m\u001b[0;34m)\u001b[0m\u001b[0;34m\u001b[0m\u001b[0;34m\u001b[0m\u001b[0m\n\u001b[0m\u001b[1;32m      2\u001b[0m \u001b[0mft_model\u001b[0m\u001b[0;34m.\u001b[0m\u001b[0mmodel\u001b[0m\u001b[0;34m.\u001b[0m\u001b[0mresize_token_embeddings\u001b[0m\u001b[0;34m(\u001b[0m\u001b[0mlen\u001b[0m\u001b[0;34m(\u001b[0m\u001b[0mft_model\u001b[0m\u001b[0;34m.\u001b[0m\u001b[0mtokenizer\u001b[0m\u001b[0;34m)\u001b[0m\u001b[0;34m)\u001b[0m\u001b[0;34m\u001b[0m\u001b[0;34m\u001b[0m\u001b[0m\n",
            "\u001b[0;31mNameError\u001b[0m: name 'ft_model' is not defined"
          ]
        }
      ]
    },
    {
      "cell_type": "code",
      "source": [
        "ft_model.train_model(\"./train.txt\", eval_file=\"./test.txt\")"
      ],
      "metadata": {
        "colab": {
          "base_uri": "https://localhost:8080/",
          "height": 166
        },
        "id": "Mhw7jgDl3gbl",
        "outputId": "40ccd982-222c-4fb8-9bbd-97b8ab87f2c1"
      },
      "execution_count": 34,
      "outputs": [
        {
          "output_type": "error",
          "ename": "NameError",
          "evalue": "ignored",
          "traceback": [
            "\u001b[0;31m---------------------------------------------------------------------------\u001b[0m",
            "\u001b[0;31mNameError\u001b[0m                                 Traceback (most recent call last)",
            "\u001b[0;32m<ipython-input-34-5b5cdcc180fb>\u001b[0m in \u001b[0;36m<module>\u001b[0;34m()\u001b[0m\n\u001b[0;32m----> 1\u001b[0;31m \u001b[0mft_model\u001b[0m\u001b[0;34m.\u001b[0m\u001b[0mtrain_model\u001b[0m\u001b[0;34m(\u001b[0m\u001b[0;34m\"./train.txt\"\u001b[0m\u001b[0;34m,\u001b[0m \u001b[0meval_file\u001b[0m\u001b[0;34m=\u001b[0m\u001b[0;34m\"./test.txt\"\u001b[0m\u001b[0;34m)\u001b[0m\u001b[0;34m\u001b[0m\u001b[0;34m\u001b[0m\u001b[0m\n\u001b[0m",
            "\u001b[0;31mNameError\u001b[0m: name 'ft_model' is not defined"
          ]
        }
      ]
    },
    {
      "cell_type": "code",
      "source": [
        "ft_model.eval_model(\"./eval.txt\")"
      ],
      "metadata": {
        "id": "CSGVhHGU3kUX"
      },
      "execution_count": null,
      "outputs": []
    },
    {
      "cell_type": "code",
      "source": [
        "ft_model.tokenizer.save_pretrained(\"./users\")"
      ],
      "metadata": {
        "id": "KrtGDIX-3lP3"
      },
      "execution_count": null,
      "outputs": []
    },
    {
      "cell_type": "code",
      "source": [
        "ft_model.model.save_pretrained(\"./users\")"
      ],
      "metadata": {
        "id": "IG69sf0z3zbz"
      },
      "execution_count": null,
      "outputs": []
    },
    {
      "cell_type": "code",
      "source": [
        "from simpletransformers.language_generation import LanguageGenerationModel\n",
        "model = LanguageGenerationModel(\"gpt2\", \"./users\")"
      ],
      "metadata": {
        "id": "zvFk7o6n38dJ"
      },
      "execution_count": null,
      "outputs": []
    },
    {
      "cell_type": "code",
      "source": [
        "prompt = \"مدينة دبي\""
      ],
      "metadata": {
        "id": "ftmoHm113-AA"
      },
      "execution_count": null,
      "outputs": []
    },
    {
      "cell_type": "code",
      "source": [
        "model.tokenizer.encode('[HHShkMohd] ' + prompt)"
      ],
      "metadata": {
        "id": "IIYuW24o4EUK"
      },
      "execution_count": null,
      "outputs": []
    },
    {
      "cell_type": "code",
      "source": [
        "model.generate('[HHShkMohd] ' + prompt)"
      ],
      "metadata": {
        "id": "DkQd6tSr4JJD"
      },
      "execution_count": null,
      "outputs": []
    },
    {
      "cell_type": "code",
      "source": [
        "model.generate('[HHShkMohd] ' + prompt, { 'max_length': 50 })"
      ],
      "metadata": {
        "id": "RCOT0cal4R4s"
      },
      "execution_count": null,
      "outputs": []
    }
  ]
}